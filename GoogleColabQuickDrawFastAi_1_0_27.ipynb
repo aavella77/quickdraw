{
  "nbformat": 4,
  "nbformat_minor": 0,
  "metadata": {
    "colab": {
      "name": "GoogleColabQuickDrawFastAi-1.0.27",
      "version": "0.3.2",
      "provenance": [],
      "collapsed_sections": [],
      "toc_visible": true
    },
    "kernelspec": {
      "name": "python3",
      "display_name": "Python 3"
    },
    "accelerator": "GPU"
  },
  "cells": [
    {
      "metadata": {
        "id": "q9eVib2GzZTd",
        "colab_type": "text"
      },
      "cell_type": "markdown",
      "source": [
        "# QuickDraw Kaggle competition using FastAi and GoogleCollab\n",
        "This notebook is based on [Radek Osmulski](https://www.linkedin.com/in/radek-osmulski-6b935794/) entry for the [QuickDraw Kaggle competition](https://www.kaggle.com/c/quickdraw-doodle-recognition).  The original files are available in this [Github repository](https://github.com/radekosmulski/quickdraw).\n",
        "\n",
        "**Welcome to Google Colab**\n",
        "https://colab.research.google.com/\n",
        "\n",
        "Google Colab provides a free Jupyter Notebook environment that includes 4 NVIDIA Tesla K80 GPUs.\n",
        "\n",
        "**Pricing**\n",
        "Free\n",
        "\n",
        "**Steps**\n",
        "\n",
        "1.   Navigate your browser to https://colab.research.google.com\n",
        "2.   Sign in to your Google account or create a new one\n",
        "3.   File->New Python 3 notebook Click the title to rename it to whatever you like.\n",
        "4.   Runtime->Change runtime type Select GPU from the dropdown menu and click Save\n",
        "5.   Install PyTorch and FastAI version 1.0.27 as shown below"
      ]
    },
    {
      "metadata": {
        "id": "GYpw9mv5DFay",
        "colab_type": "code",
        "outputId": "288f043c-57cc-4925-f030-c708fb87753b",
        "colab": {
          "base_uri": "https://localhost:8080/",
          "height": 961
        }
      },
      "cell_type": "code",
      "source": [
        "from os.path import exists\n",
        "from wheel.pep425tags import get_abbr_impl, get_impl_ver, get_abi_tag\n",
        "\n",
        "platform = '{}{}-{}'.format(get_abbr_impl(), get_impl_ver(), get_abi_tag())\n",
        "cuda_output = !ldconfig -p|grep cudart.so|sed -e 's/.*\\.\\([0-9]*\\)\\.\\([0-9]*\\)$/cu\\1\\2/'\n",
        "accelerator = cuda_output[0] if exists('/dev/nvidia0') else 'cpu'\n",
        "\n",
        "!pip install torch_nightly -f https://download.pytorch.org/whl/nightly/{accelerator}/torch_nightly.html\n",
        "!pip install fastai==1.0.27\n",
        "!pip install torchtext==0.2.3\n",
        "\n",
        "import torch\n",
        "\n",
        "print(torch.__version__)\n",
        "print(torch.cuda.is_available())\n",
        "print(torch.backends.cudnn.enabled)"
      ],
      "execution_count": 4,
      "outputs": [
        {
          "output_type": "stream",
          "text": [
            "Looking in links: https://download.pytorch.org/whl/nightly/cu92/torch_nightly.html\n",
            "Collecting torch_nightly\n",
            "  Using cached https://download.pytorch.org/whl/nightly/cu92/torch_nightly-1.0.0.dev20181206-cp36-cp36m-linux_x86_64.whl\n",
            "tcmalloc: large alloc 1073750016 bytes == 0x62b3e000 @  0x7fdb2a21a2a4 0x591a07 0x5b5d56 0x502e9a 0x506859 0x502209 0x502f3d 0x506859 0x504c28 0x502540 0x502f3d 0x506859 0x504c28 0x502540 0x502f3d 0x506859 0x504c28 0x502540 0x502f3d 0x507641 0x502209 0x502f3d 0x506859 0x504c28 0x502540 0x502f3d 0x507641 0x504c28 0x502540 0x502f3d 0x507641\n",
            "Installing collected packages: torch-nightly\n",
            "Successfully installed torch-nightly-1.0.0.dev20181206\n",
            "Requirement already satisfied: fastai==1.0.27 in /usr/local/lib/python3.6/dist-packages (1.0.27)\n",
            "Requirement already satisfied: requests in /usr/local/lib/python3.6/dist-packages (from fastai==1.0.27) (2.18.4)\n",
            "Requirement already satisfied: pyyaml in /usr/local/lib/python3.6/dist-packages (from fastai==1.0.27) (3.13)\n",
            "Requirement already satisfied: Pillow in /usr/local/lib/python3.6/dist-packages (from fastai==1.0.27) (4.0.0)\n",
            "Requirement already satisfied: thinc==6.12.0 in /usr/local/lib/python3.6/dist-packages (from fastai==1.0.27) (6.12.0)\n",
            "Requirement already satisfied: bottleneck in /usr/local/lib/python3.6/dist-packages (from fastai==1.0.27) (1.2.1)\n",
            "Requirement already satisfied: torchvision-nightly in /usr/local/lib/python3.6/dist-packages (from fastai==1.0.27) (0.2.1)\n",
            "Requirement already satisfied: scipy in /usr/local/lib/python3.6/dist-packages (from fastai==1.0.27) (1.1.0)\n",
            "Requirement already satisfied: numpy>=1.12 in /usr/local/lib/python3.6/dist-packages (from fastai==1.0.27) (1.14.6)\n",
            "Requirement already satisfied: pandas in /usr/local/lib/python3.6/dist-packages (from fastai==1.0.27) (0.22.0)\n",
            "Requirement already satisfied: dataclasses in /usr/local/lib/python3.6/dist-packages (from fastai==1.0.27) (0.6)\n",
            "Requirement already satisfied: regex in /usr/local/lib/python3.6/dist-packages (from fastai==1.0.27) (2018.1.10)\n",
            "Requirement already satisfied: fastprogress>=0.1.15 in /usr/local/lib/python3.6/dist-packages (from fastai==1.0.27) (0.1.18)\n",
            "Requirement already satisfied: matplotlib in /usr/local/lib/python3.6/dist-packages (from fastai==1.0.27) (2.1.2)\n",
            "Requirement already satisfied: typing in /usr/local/lib/python3.6/dist-packages (from fastai==1.0.27) (3.6.6)\n",
            "Requirement already satisfied: cymem==2.0.2 in /usr/local/lib/python3.6/dist-packages (from fastai==1.0.27) (2.0.2)\n",
            "Requirement already satisfied: numexpr in /usr/local/lib/python3.6/dist-packages (from fastai==1.0.27) (2.6.8)\n",
            "Requirement already satisfied: spacy==2.0.16 in /usr/local/lib/python3.6/dist-packages (from fastai==1.0.27) (2.0.16)\n",
            "Requirement already satisfied: urllib3<1.23,>=1.21.1 in /usr/local/lib/python3.6/dist-packages (from requests->fastai==1.0.27) (1.22)\n",
            "Requirement already satisfied: certifi>=2017.4.17 in /usr/local/lib/python3.6/dist-packages (from requests->fastai==1.0.27) (2018.11.29)\n",
            "Requirement already satisfied: idna<2.7,>=2.5 in /usr/local/lib/python3.6/dist-packages (from requests->fastai==1.0.27) (2.6)\n",
            "Requirement already satisfied: chardet<3.1.0,>=3.0.2 in /usr/local/lib/python3.6/dist-packages (from requests->fastai==1.0.27) (3.0.4)\n",
            "Requirement already satisfied: olefile in /usr/local/lib/python3.6/dist-packages (from Pillow->fastai==1.0.27) (0.46)\n",
            "Requirement already satisfied: msgpack-numpy<0.4.4.0 in /usr/local/lib/python3.6/dist-packages (from thinc==6.12.0->fastai==1.0.27) (0.4.3.2)\n",
            "Requirement already satisfied: plac<1.0.0,>=0.9.6 in /usr/local/lib/python3.6/dist-packages (from thinc==6.12.0->fastai==1.0.27) (0.9.6)\n",
            "Requirement already satisfied: murmurhash<1.1.0,>=0.28.0 in /usr/local/lib/python3.6/dist-packages (from thinc==6.12.0->fastai==1.0.27) (1.0.1)\n",
            "Requirement already satisfied: wrapt<1.11.0,>=1.10.0 in /usr/local/lib/python3.6/dist-packages (from thinc==6.12.0->fastai==1.0.27) (1.10.11)\n",
            "Requirement already satisfied: tqdm<5.0.0,>=4.10.0 in /usr/local/lib/python3.6/dist-packages (from thinc==6.12.0->fastai==1.0.27) (4.28.1)\n",
            "Requirement already satisfied: msgpack<1.0.0,>=0.5.6 in /usr/local/lib/python3.6/dist-packages (from thinc==6.12.0->fastai==1.0.27) (0.5.6)\n",
            "Requirement already satisfied: dill<0.3.0,>=0.2.7 in /usr/local/lib/python3.6/dist-packages (from thinc==6.12.0->fastai==1.0.27) (0.2.8.2)\n",
            "Requirement already satisfied: six<2.0.0,>=1.10.0 in /usr/local/lib/python3.6/dist-packages (from thinc==6.12.0->fastai==1.0.27) (1.11.0)\n",
            "Requirement already satisfied: preshed<3.0.0,>=2.0.1 in /usr/local/lib/python3.6/dist-packages (from thinc==6.12.0->fastai==1.0.27) (2.0.1)\n",
            "Requirement already satisfied: cytoolz<0.10,>=0.9.0 in /usr/local/lib/python3.6/dist-packages (from thinc==6.12.0->fastai==1.0.27) (0.9.0.1)\n",
            "Requirement already satisfied: python-dateutil>=2 in /usr/local/lib/python3.6/dist-packages (from pandas->fastai==1.0.27) (2.5.3)\n",
            "Requirement already satisfied: pytz>=2011k in /usr/local/lib/python3.6/dist-packages (from pandas->fastai==1.0.27) (2018.7)\n",
            "Requirement already satisfied: cycler>=0.10 in /usr/local/lib/python3.6/dist-packages (from matplotlib->fastai==1.0.27) (0.10.0)\n",
            "Requirement already satisfied: pyparsing!=2.0.4,!=2.1.2,!=2.1.6,>=2.0.1 in /usr/local/lib/python3.6/dist-packages (from matplotlib->fastai==1.0.27) (2.3.0)\n",
            "Requirement already satisfied: ujson>=1.35 in /usr/local/lib/python3.6/dist-packages (from spacy==2.0.16->fastai==1.0.27) (1.35)\n",
            "Requirement already satisfied: toolz>=0.8.0 in /usr/local/lib/python3.6/dist-packages (from cytoolz<0.10,>=0.9.0->thinc==6.12.0->fastai==1.0.27) (0.9.0)\n",
            "Requirement already satisfied: torchtext==0.2.3 in /usr/local/lib/python3.6/dist-packages (0.2.3)\n",
            "Requirement already satisfied: tqdm in /usr/local/lib/python3.6/dist-packages (from torchtext==0.2.3) (4.28.1)\n",
            "Requirement already satisfied: requests in /usr/local/lib/python3.6/dist-packages (from torchtext==0.2.3) (2.18.4)\n",
            "Requirement already satisfied: idna<2.7,>=2.5 in /usr/local/lib/python3.6/dist-packages (from requests->torchtext==0.2.3) (2.6)\n",
            "Requirement already satisfied: urllib3<1.23,>=1.21.1 in /usr/local/lib/python3.6/dist-packages (from requests->torchtext==0.2.3) (1.22)\n",
            "Requirement already satisfied: certifi>=2017.4.17 in /usr/local/lib/python3.6/dist-packages (from requests->torchtext==0.2.3) (2018.11.29)\n",
            "Requirement already satisfied: chardet<3.1.0,>=3.0.2 in /usr/local/lib/python3.6/dist-packages (from requests->torchtext==0.2.3) (3.0.4)\n",
            "1.0.0.dev20181206\n",
            "True\n",
            "True\n"
          ],
          "name": "stdout"
        }
      ]
    },
    {
      "metadata": {
        "id": "U9vuHMxtCwwK",
        "colab_type": "code",
        "outputId": "c5cd7970-9e83-44fe-bb5f-8101f5728d52",
        "colab": {
          "base_uri": "https://localhost:8080/",
          "height": 34
        }
      },
      "cell_type": "code",
      "source": [
        "import tensorflow as tf\n",
        "device_name = tf.test.gpu_device_name()\n",
        "if device_name != '/device:GPU:0':\n",
        "  raise SystemError('GPU device not found')\n",
        "print('Found GPU at: {}'.format(device_name))"
      ],
      "execution_count": 1,
      "outputs": [
        {
          "output_type": "stream",
          "text": [
            "Found GPU at: /device:GPU:0\n"
          ],
          "name": "stdout"
        }
      ]
    },
    {
      "metadata": {
        "id": "AjpDy_OoDQaa",
        "colab_type": "code",
        "outputId": "655c156d-2086-46b3-d8b5-b84692b12425",
        "colab": {
          "base_uri": "https://localhost:8080/",
          "height": 34
        }
      },
      "cell_type": "code",
      "source": [
        "import fastai\n",
        "print(fastai.__version__)\n",
        "from fastai import *\n",
        "from fastai.vision import *"
      ],
      "execution_count": 5,
      "outputs": [
        {
          "output_type": "stream",
          "text": [
            "1.0.27\n"
          ],
          "name": "stdout"
        }
      ]
    },
    {
      "metadata": {
        "id": "xXwOLZrRwYpE",
        "colab_type": "text"
      },
      "cell_type": "markdown",
      "source": [
        "**Upload utils.py library** \n",
        "1.   Press the > symbol below Google Collab icon.\n",
        "2.   Click on Files\n",
        "3.   Click on upload and select utils.py\n",
        "\n"
      ]
    },
    {
      "metadata": {
        "id": "XdtXE9oNEeq_",
        "colab_type": "code",
        "colab": {}
      },
      "cell_type": "code",
      "source": [
        "%matplotlib inline\n",
        "import matplotlib.pyplot as plt\n",
        "import pandas as pd\n",
        "import numpy as np\n",
        "from pathlib import Path\n",
        "\n",
        "import json\n",
        "\n",
        "from utils import *"
      ],
      "execution_count": 0,
      "outputs": []
    },
    {
      "metadata": {
        "id": "SEXY85gSDdBz",
        "colab_type": "code",
        "colab": {}
      },
      "cell_type": "code",
      "source": [
        "NUM_SAMPLES_PER_CLASS = 1_000\n",
        "NUM_VAL = 50 * 340"
      ],
      "execution_count": 0,
      "outputs": []
    },
    {
      "metadata": {
        "colab_type": "text",
        "id": "nzbWdOUQw6Ep"
      },
      "cell_type": "markdown",
      "source": [
        "1.   Press the > symbol below Google Collab icon\n",
        "2.   Click on upload\n",
        "3.   Upload test_simplified.csv\n",
        "4.   Upload train_simplified.zip\n",
        "\n"
      ]
    },
    {
      "metadata": {
        "id": "7uCMiM8xDwfg",
        "colab_type": "code",
        "colab": {}
      },
      "cell_type": "code",
      "source": [
        "!mkdir data\n",
        "PATH = Path('data/txt')"
      ],
      "execution_count": 0,
      "outputs": []
    },
    {
      "metadata": {
        "id": "_-XEER0sDgzK",
        "colab_type": "code",
        "colab": {}
      },
      "cell_type": "code",
      "source": [
        "PATH.mkdir(exist_ok=True)\n",
        "(PATH/'train').mkdir(exist_ok=True)\n",
        "(PATH/'test').mkdir(exist_ok=True)"
      ],
      "execution_count": 0,
      "outputs": []
    },
    {
      "metadata": {
        "id": "OE5_wRnV0U_U",
        "colab_type": "code",
        "colab": {
          "base_uri": "https://localhost:8080/",
          "height": 34
        },
        "outputId": "941faf2d-4f84-4f77-9fec-78e673eda5ff"
      },
      "cell_type": "code",
      "source": [
        "shutil.move(\"test_simplified.csv\", \"data\")"
      ],
      "execution_count": 12,
      "outputs": [
        {
          "output_type": "execute_result",
          "data": {
            "text/plain": [
              "'data/test_simplified.csv'"
            ]
          },
          "metadata": {
            "tags": []
          },
          "execution_count": 12
        }
      ]
    },
    {
      "metadata": {
        "id": "cCImkuMW4kY4",
        "colab_type": "text"
      },
      "cell_type": "markdown",
      "source": [
        ""
      ]
    },
    {
      "metadata": {
        "id": "TtK_CXxp19XE",
        "colab_type": "text"
      },
      "cell_type": "markdown",
      "source": [
        "1.   Upload kaggle.json using Google Collab\n",
        "2.   kaggle.json can be found in your Kaggle.com account profile"
      ]
    },
    {
      "metadata": {
        "id": "AQvW0tsi18O-",
        "colab_type": "code",
        "colab": {
          "base_uri": "https://localhost:8080/",
          "height": 101
        },
        "outputId": "838b876c-d9de-4e4f-ffcb-ec64290ad8ad"
      },
      "cell_type": "code",
      "source": [
        "PATH2 = Path('/root/.kaggle')\n",
        "PATH2.mkdir(exist_ok=True)\n",
        "%ls -a /root\n",
        "%cd /\n",
        "%cd content\n",
        "%pwd\n",
        "shutil.move(\"kaggle.json\", \"/root/.kaggle\")\n",
        "!chmod 600 /root/.kaggle/kaggle.json\n",
        "%ls /root/.kaggle"
      ],
      "execution_count": 13,
      "outputs": [
        {
          "output_type": "stream",
          "text": [
            "\u001b[0m\u001b[01;34m.\u001b[0m/   .bashrc  \u001b[01;34m.config\u001b[0m/   \u001b[01;34m.gsutil\u001b[0m/   \u001b[01;34m.jupyter\u001b[0m/  \u001b[01;34m.keras\u001b[0m/  \u001b[01;34m.node-gyp\u001b[0m/  \u001b[01;34m.nv\u001b[0m/\n",
            "\u001b[01;34m..\u001b[0m/  \u001b[01;34m.cache\u001b[0m/  \u001b[01;34m.forever\u001b[0m/  \u001b[01;34m.ipython\u001b[0m/  \u001b[01;34m.kaggle\u001b[0m/   \u001b[01;34m.local\u001b[0m/  \u001b[01;34m.npm\u001b[0m/       .profile\n",
            "/\n",
            "/content\n",
            "kaggle.json\n"
          ],
          "name": "stdout"
        }
      ]
    },
    {
      "metadata": {
        "id": "sO5rqoP_2aYU",
        "colab_type": "code",
        "colab": {
          "base_uri": "https://localhost:8080/",
          "height": 67
        },
        "outputId": "1cb3a420-4cc8-46ad-ffc7-4e299122f357"
      },
      "cell_type": "code",
      "source": [
        "%more /root/.kaggle/kaggle.json\n",
        "!kaggle competitions download -c quickdraw-doodle-recognition -f train_simplified.zip -p data"
      ],
      "execution_count": 16,
      "outputs": [
        {
          "output_type": "stream",
          "text": [
            "Downloading train_simplified.zip to data\n",
            "100% 7.37G/7.37G [02:59<00:00, 32.3MB/s]\n",
            "100% 7.37G/7.37G [02:59<00:00, 44.1MB/s]\n"
          ],
          "name": "stdout"
        }
      ]
    },
    {
      "metadata": {
        "id": "kVVcmIJ_35iw",
        "colab_type": "code",
        "colab": {
          "base_uri": "https://localhost:8080/",
          "height": 5746
        },
        "outputId": "7307038d-b603-4601-9b11-fe124fae6bab"
      },
      "cell_type": "code",
      "source": [
        "!unzip data/train_simplified.zip -d train"
      ],
      "execution_count": 18,
      "outputs": [
        {
          "output_type": "stream",
          "text": [
            "Archive:  data/train_simplified.zip\n",
            "  inflating: train/fence.csv         \n",
            "  inflating: train/yoga.csv          \n",
            "  inflating: train/horse.csv         \n",
            "  inflating: train/sandwich.csv      \n",
            "  inflating: train/cat.csv           \n",
            "  inflating: train/camouflage.csv    \n",
            "  inflating: train/mosquito.csv      \n",
            "  inflating: train/see saw.csv       \n",
            "  inflating: train/onion.csv         \n",
            "  inflating: train/grapes.csv        \n",
            "  inflating: train/chandelier.csv    \n",
            "  inflating: train/stitches.csv      \n",
            "  inflating: train/sink.csv          \n",
            "  inflating: train/trumpet.csv       \n",
            "  inflating: train/cell phone.csv    \n",
            "  inflating: train/skyscraper.csv    \n",
            "  inflating: train/hourglass.csv     \n",
            "  inflating: train/donut.csv         \n",
            "  inflating: train/ceiling fan.csv   \n",
            "  inflating: train/bowtie.csv        \n",
            "  inflating: train/lipstick.csv      \n",
            "  inflating: train/suitcase.csv      \n",
            "  inflating: train/moon.csv          \n",
            "  inflating: train/dishwasher.csv    \n",
            "  inflating: train/mermaid.csv       \n",
            "  inflating: train/crocodile.csv     \n",
            "  inflating: train/tiger.csv         \n",
            "  inflating: train/trombone.csv      \n",
            "  inflating: train/hot air balloon.csv  \n",
            "  inflating: train/bread.csv         \n",
            "  inflating: train/bottlecap.csv     \n",
            "  inflating: train/mountain.csv      \n",
            "  inflating: train/pool.csv          \n",
            "  inflating: train/snake.csv         \n",
            "  inflating: train/dog.csv           \n",
            "  inflating: train/ambulance.csv     \n",
            "  inflating: train/backpack.csv      \n",
            "  inflating: train/dumbbell.csv      \n",
            "  inflating: train/elbow.csv         \n",
            "  inflating: train/frog.csv          \n",
            "  inflating: train/screwdriver.csv   \n",
            "  inflating: train/fire hydrant.csv  \n",
            "  inflating: train/squiggle.csv      \n",
            "  inflating: train/dresser.csv       \n",
            "  inflating: train/axe.csv           \n",
            "  inflating: train/mailbox.csv       \n",
            "  inflating: train/cannon.csv        \n",
            "  inflating: train/bear.csv          \n",
            "  inflating: train/hand.csv          \n",
            "  inflating: train/toilet.csv        \n",
            "  inflating: train/garden hose.csv   \n",
            "  inflating: train/tennis racquet.csv  \n",
            "  inflating: train/cup.csv           \n",
            "  inflating: train/drums.csv         \n",
            "  inflating: train/hat.csv           \n",
            "  inflating: train/bucket.csv        \n",
            "  inflating: train/stop sign.csv     \n",
            "  inflating: train/remote control.csv  \n",
            "  inflating: train/key.csv           \n",
            "  inflating: train/penguin.csv       \n",
            "  inflating: train/cookie.csv        \n",
            "  inflating: train/blackberry.csv    \n",
            "  inflating: train/shoe.csv          \n",
            "  inflating: train/popsicle.csv      \n",
            "  inflating: train/cruise ship.csv   \n",
            "  inflating: train/rabbit.csv        \n",
            "  inflating: train/spreadsheet.csv   \n",
            "  inflating: train/microwave.csv     \n",
            "  inflating: train/ant.csv           \n",
            "  inflating: train/parrot.csv        \n",
            "  inflating: train/wine bottle.csv   \n",
            "  inflating: train/bat.csv           \n",
            "  inflating: train/traffic light.csv  \n",
            "  inflating: train/whale.csv         \n",
            "  inflating: train/wheel.csv         \n",
            "  inflating: train/hockey stick.csv  \n",
            "  inflating: train/squirrel.csv      \n",
            "  inflating: train/panda.csv         \n",
            "  inflating: train/line.csv          \n",
            "  inflating: train/picture frame.csv  \n",
            "  inflating: train/finger.csv        \n",
            "  inflating: train/sailboat.csv      \n",
            "  inflating: train/compass.csv       \n",
            "  inflating: train/mouth.csv         \n",
            "  inflating: train/eraser.csv        \n",
            "  inflating: train/ladder.csv        \n",
            "  inflating: train/bench.csv         \n",
            "  inflating: train/frying pan.csv    \n",
            "  inflating: train/goatee.csv        \n",
            "  inflating: train/school bus.csv    \n",
            "  inflating: train/camel.csv         \n",
            "  inflating: train/flamingo.csv      \n",
            "  inflating: train/baseball bat.csv  \n",
            "  inflating: train/floor lamp.csv    \n",
            "  inflating: train/hedgehog.csv      \n",
            "  inflating: train/stereo.csv        \n",
            "  inflating: train/bridge.csv        \n",
            "  inflating: train/broccoli.csv      \n",
            "  inflating: train/blueberry.csv     \n",
            "  inflating: train/bathtub.csv       \n",
            "  inflating: train/cooler.csv        \n",
            "  inflating: train/coffee cup.csv    \n",
            "  inflating: train/grass.csv         \n",
            "  inflating: train/pickup truck.csv  \n",
            "  inflating: train/toe.csv           \n",
            "  inflating: train/monkey.csv        \n",
            "  inflating: train/string bean.csv   \n",
            "  inflating: train/soccer ball.csv   \n",
            "  inflating: train/zigzag.csv        \n",
            "  inflating: train/helicopter.csv    \n",
            "  inflating: train/smiley face.csv   \n",
            "  inflating: train/pig.csv           \n",
            "  inflating: train/octagon.csv       \n",
            "  inflating: train/skull.csv         \n",
            "  inflating: train/hospital.csv      \n",
            "  inflating: train/firetruck.csv     \n",
            "  inflating: train/leaf.csv          \n",
            "  inflating: train/megaphone.csv     \n",
            "  inflating: train/apple.csv         \n",
            "  inflating: train/stove.csv         \n",
            "  inflating: train/lightning.csv     \n",
            "  inflating: train/fireplace.csv     \n",
            "  inflating: train/banana.csv        \n",
            "  inflating: train/fork.csv          \n",
            "  inflating: train/foot.csv          \n",
            "  inflating: train/saw.csv           \n",
            "  inflating: train/purse.csv         \n",
            "  inflating: train/sword.csv         \n",
            "  inflating: train/saxophone.csv     \n",
            "  inflating: train/washing machine.csv  \n",
            "  inflating: train/parachute.csv     \n",
            "  inflating: train/alarm clock.csv   \n",
            "  inflating: train/anvil.csv         \n",
            "  inflating: train/birthday cake.csv  \n",
            "  inflating: train/snowman.csv       \n",
            "  inflating: train/beach.csv         \n",
            "  inflating: train/boomerang.csv     \n",
            "  inflating: train/snorkel.csv       \n",
            "  inflating: train/underwear.csv     \n",
            "  inflating: train/pillow.csv        \n",
            "  inflating: train/keyboard.csv      \n",
            "  inflating: train/sleeping bag.csv  \n",
            "  inflating: train/pear.csv          \n",
            "  inflating: train/church.csv        \n",
            "  inflating: train/ocean.csv         \n",
            "  inflating: train/headphones.csv    \n",
            "  inflating: train/lighthouse.csv    \n",
            "  inflating: train/star.csv          \n",
            "  inflating: train/campfire.csv      \n",
            "  inflating: train/rake.csv          \n",
            "  inflating: train/shark.csv         \n",
            "  inflating: train/camera.csv        \n",
            "  inflating: train/guitar.csv        \n",
            "  inflating: train/rain.csv          \n",
            "  inflating: train/calendar.csv      \n",
            "  inflating: train/vase.csv          \n",
            "  inflating: train/flower.csv        \n",
            "  inflating: train/sweater.csv       \n",
            "  inflating: train/mug.csv           \n",
            "  inflating: train/jail.csv          \n",
            "  inflating: train/telephone.csv     \n",
            "  inflating: train/pencil.csv        \n",
            "  inflating: train/speedboat.csv     \n",
            "  inflating: train/scorpion.csv      \n",
            "  inflating: train/flying saucer.csv  \n",
            "  inflating: train/jacket.csv        \n",
            "  inflating: train/microphone.csv    \n",
            "  inflating: train/cloud.csv         \n",
            "  inflating: train/marker.csv        \n",
            "  inflating: train/shovel.csv        \n",
            "  inflating: train/raccoon.csv       \n",
            "  inflating: train/steak.csv         \n",
            "  inflating: train/face.csv          \n",
            "  inflating: train/brain.csv         \n",
            "  inflating: train/passport.csv      \n",
            "  inflating: train/basketball.csv    \n",
            "  inflating: train/diamond.csv       \n",
            "  inflating: train/train.csv         \n",
            "  inflating: train/tent.csv          \n",
            "  inflating: train/beard.csv         \n",
            "  inflating: train/flip flops.csv    \n",
            "  inflating: train/kangaroo.csv      \n",
            "  inflating: train/tornado.csv       \n",
            "  inflating: train/house plant.csv   \n",
            "  inflating: train/lantern.csv       \n",
            "  inflating: train/canoe.csv         \n",
            "  inflating: train/castle.csv        \n",
            "  inflating: train/diving board.csv  \n",
            "  inflating: train/barn.csv          \n",
            "  inflating: train/bed.csv           \n",
            "  inflating: train/nail.csv          \n",
            "  inflating: train/hockey puck.csv   \n",
            "  inflating: train/peanut.csv        \n",
            "  inflating: train/bush.csv          \n",
            "  inflating: train/bus.csv           \n",
            "  inflating: train/animal migration.csv  \n",
            "  inflating: train/book.csv          \n",
            "  inflating: train/river.csv         \n",
            "  inflating: train/pizza.csv         \n",
            "  inflating: train/sheep.csv         \n",
            "  inflating: train/lion.csv          \n",
            "  inflating: train/postcard.csv      \n",
            "  inflating: train/sea turtle.csv    \n",
            "  inflating: train/roller coaster.csv  \n",
            "  inflating: train/ice cream.csv     \n",
            "  inflating: train/cello.csv         \n",
            "  inflating: train/strawberry.csv    \n",
            "  inflating: train/fan.csv           \n",
            "  inflating: train/drill.csv         \n",
            "  inflating: train/calculator.csv    \n",
            "  inflating: train/octopus.csv       \n",
            "  inflating: train/pineapple.csv     \n",
            "  inflating: train/hexagon.csv       \n",
            "  inflating: train/dragon.csv        \n",
            "  inflating: train/bicycle.csv       \n",
            "  inflating: train/square.csv        \n",
            "  inflating: train/tractor.csv       \n",
            "  inflating: train/toaster.csv       \n",
            "  inflating: train/butterfly.csv     \n",
            "  inflating: train/harp.csv          \n",
            "  inflating: train/crayon.csv        \n",
            "  inflating: train/t-shirt.csv       \n",
            "  inflating: train/necklace.csv      \n",
            "  inflating: train/paintbrush.csv    \n",
            "  inflating: train/bandage.csv       \n",
            "  inflating: train/arm.csv           \n",
            "  inflating: train/paint can.csv     \n",
            "  inflating: train/hot dog.csv       \n",
            "  inflating: train/swing set.csv     \n",
            "  inflating: train/door.csv          \n",
            "  inflating: train/dolphin.csv       \n",
            "  inflating: train/mouse.csv         \n",
            "  inflating: train/piano.csv         \n",
            "  inflating: train/mushroom.csv      \n",
            "  inflating: train/nose.csv          \n",
            "  inflating: train/bird.csv          \n",
            "  inflating: train/fish.csv          \n",
            "  inflating: train/table.csv         \n",
            "  inflating: train/light bulb.csv    \n",
            "  inflating: train/crown.csv         \n",
            "  inflating: train/duck.csv          \n",
            "  inflating: train/The Eiffel Tower.csv  \n",
            "  inflating: train/house.csv         \n",
            "  inflating: train/palm tree.csv     \n",
            "  inflating: train/cactus.csv        \n",
            "  inflating: train/hot tub.csv       \n",
            "  inflating: train/bee.csv           \n",
            "  inflating: train/bracelet.csv      \n",
            "  inflating: train/wine glass.csv    \n",
            "  inflating: train/The Mona Lisa.csv  \n",
            "  inflating: train/bulldozer.csv     \n",
            "  inflating: train/scissors.csv      \n",
            "  inflating: train/moustache.csv     \n",
            "  inflating: train/owl.csv           \n",
            "  inflating: train/eyeglasses.csv    \n",
            "  inflating: train/helmet.csv        \n",
            "  inflating: train/teapot.csv        \n",
            "  inflating: train/streetlight.csv   \n",
            "  inflating: train/candle.csv        \n",
            "  inflating: train/swan.csv          \n",
            "  inflating: train/map.csv           \n",
            "  inflating: train/angel.csv         \n",
            "  inflating: train/sock.csv          \n",
            "  inflating: train/rhinoceros.csv    \n",
            "  inflating: train/wristwatch.csv    \n",
            "  inflating: train/garden.csv        \n",
            "  inflating: train/leg.csv           \n",
            "  inflating: train/golf club.csv     \n",
            "  inflating: train/hurricane.csv     \n",
            "  inflating: train/matches.csv       \n",
            "  inflating: train/umbrella.csv      \n",
            "  inflating: train/pants.csv         \n",
            "  inflating: train/laptop.csv        \n",
            "  inflating: train/pond.csv          \n",
            "  inflating: train/spoon.csv         \n",
            "  inflating: train/asparagus.csv     \n",
            "  inflating: train/stairs.csv        \n",
            "  inflating: train/eye.csv           \n",
            "  inflating: train/submarine.csv     \n",
            "  inflating: train/cow.csv           \n",
            "  inflating: train/couch.csv         \n",
            "  inflating: train/broom.csv         \n",
            "  inflating: train/flashlight.csv    \n",
            "  inflating: train/potato.csv        \n",
            "  inflating: train/baseball.csv      \n",
            "  inflating: train/tree.csv          \n",
            "  inflating: train/circle.csv        \n",
            "  inflating: train/radio.csv         \n",
            "  inflating: train/clock.csv         \n",
            "  inflating: train/hammer.csv        \n",
            "  inflating: train/sun.csv           \n",
            "  inflating: train/stethoscope.csv   \n",
            "  inflating: train/ear.csv           \n",
            "  inflating: train/watermelon.csv    \n",
            "  inflating: train/cake.csv          \n",
            "  inflating: train/paper clip.csv    \n",
            "  inflating: train/windmill.csv      \n",
            "  inflating: train/violin.csv        \n",
            "  inflating: train/belt.csv          \n",
            "  inflating: train/pliers.csv        \n",
            "  inflating: train/elephant.csv      \n",
            "  inflating: train/knee.csv          \n",
            "  inflating: train/triangle.csv      \n",
            "  inflating: train/feather.csv       \n",
            "  inflating: train/computer.csv      \n",
            "  inflating: train/rainbow.csv       \n",
            "  inflating: train/lollipop.csv      \n",
            "  inflating: train/police car.csv    \n",
            "  inflating: train/shorts.csv        \n",
            "  inflating: train/skateboard.csv    \n",
            "  inflating: train/rollerskates.csv  \n",
            "  inflating: train/zebra.csv         \n",
            "  inflating: train/motorbike.csv     \n",
            "  inflating: train/spider.csv        \n",
            "  inflating: train/snail.csv         \n",
            "  inflating: train/toothbrush.csv    \n",
            "  inflating: train/binoculars.csv    \n",
            "  inflating: train/waterslide.csv    \n",
            "  inflating: train/truck.csv         \n",
            "  inflating: train/chair.csv         \n",
            "  inflating: train/airplane.csv      \n",
            "  inflating: train/peas.csv          \n",
            "  inflating: train/envelope.csv      \n",
            "  inflating: train/tooth.csv         \n",
            "  inflating: train/The Great Wall of China.csv  \n",
            "  inflating: train/crab.csv          \n",
            "  inflating: train/van.csv           \n",
            "  inflating: train/clarinet.csv      \n",
            "  inflating: train/car.csv           \n",
            "  inflating: train/carrot.csv        \n",
            "  inflating: train/basket.csv        \n",
            "  inflating: train/snowflake.csv     \n",
            "  inflating: train/power outlet.csv  \n",
            "  inflating: train/hamburger.csv     \n",
            "  inflating: train/lobster.csv       \n",
            "  inflating: train/toothpaste.csv    \n",
            "  inflating: train/teddy-bear.csv    \n",
            "  inflating: train/television.csv    \n",
            "  inflating: train/oven.csv          \n",
            "  inflating: train/giraffe.csv       \n"
          ],
          "name": "stdout"
        }
      ]
    },
    {
      "metadata": {
        "id": "QZOYpNuy52YG",
        "colab_type": "code",
        "colab": {
          "base_uri": "https://localhost:8080/",
          "height": 34
        },
        "outputId": "2987e3ea-fe86-4234-f511-6bbeef68546a"
      },
      "cell_type": "code",
      "source": [
        "shutil.move(\"train\", \"data\")\n",
        "!ls data/train | wc -l"
      ],
      "execution_count": 21,
      "outputs": [
        {
          "output_type": "stream",
          "text": [
            "340\n"
          ],
          "name": "stdout"
        }
      ]
    },
    {
      "metadata": {
        "id": "c4JpHGoC6P0K",
        "colab_type": "text"
      },
      "cell_type": "markdown",
      "source": [
        "There should be 340 folders under data/train"
      ]
    },
    {
      "metadata": {
        "id": "12n2R-04DpPS",
        "colab_type": "code",
        "colab": {}
      },
      "cell_type": "code",
      "source": [
        "def create_train_txts_from_df(path):\n",
        "    df = pd.read_csv(path)\n",
        "    klass = '_'.join(path.stem.split())\n",
        "    (PATH/'train'/klass).mkdir(exist_ok=True)\n",
        "    for row in df.sample(NUM_SAMPLES_PER_CLASS).iterrows():\n",
        "        example = {\n",
        "            'countrycode': row[1].countrycode,\n",
        "            'drawing': json.loads(row[1].drawing),\n",
        "            'key_id': row[1].key_id,\n",
        "            'recognized': row[1].recognized\n",
        "        }\n",
        "        with open(PATH/'train'/klass/f'{example[\"key_id\"]}.txt', mode='w') as f: json.dump(example, f)\n",
        "\n",
        "def create_test_txts_from_df(path):\n",
        "    df = pd.read_csv(path)\n",
        "    for row in df.iterrows():\n",
        "        example = {\n",
        "            'countrycode': row[1].countrycode,\n",
        "            'drawing': json.loads(row[1].drawing),\n",
        "            'key_id': row[1].key_id\n",
        "        }\n",
        "        with open(PATH/'test'/f'{example[\"key_id\"]}.txt', mode='w') as f: json.dump(example, f)"
      ],
      "execution_count": 0,
      "outputs": []
    },
    {
      "metadata": {
        "id": "7VYUrkp6D5L6",
        "colab_type": "code",
        "outputId": "6993f059-a3da-45cb-ab7e-0e3efada6974",
        "colab": {
          "base_uri": "https://localhost:8080/",
          "height": 50
        }
      },
      "cell_type": "code",
      "source": [
        "%time create_test_txts_from_df('data/test_simplified.csv')"
      ],
      "execution_count": 23,
      "outputs": [
        {
          "output_type": "stream",
          "text": [
            "CPU times: user 54.5 s, sys: 7.1 s, total: 1min 1s\n",
            "Wall time: 1min 2s\n"
          ],
          "name": "stdout"
        }
      ]
    },
    {
      "metadata": {
        "id": "Z9n_D_06e7Zw",
        "colab_type": "code",
        "outputId": "e19b7002-51ed-479b-9843-f69ca9c7a1d5",
        "colab": {
          "base_uri": "https://localhost:8080/",
          "height": 50
        }
      },
      "cell_type": "code",
      "source": [
        "!ls data/txt/test/9000003627287624.txt\n",
        "!ls data/txt/test | wc -l"
      ],
      "execution_count": 24,
      "outputs": [
        {
          "output_type": "stream",
          "text": [
            "data/txt/test/9000003627287624.txt\n",
            "112199\n"
          ],
          "name": "stdout"
        }
      ]
    },
    {
      "metadata": {
        "id": "T0EpFOn-7q70",
        "colab_type": "text"
      },
      "cell_type": "markdown",
      "source": [
        "There should be 112199 entries in the data/txt/test folder.  These are the samples that will be predict on and they will be used for the submission below"
      ]
    },
    {
      "metadata": {
        "id": "2SAYpy6JD6LY",
        "colab_type": "code",
        "colab": {
          "base_uri": "https://localhost:8080/",
          "height": 50
        },
        "outputId": "2dfb237e-eec7-428f-f7d1-0ec93259ff3e"
      },
      "cell_type": "code",
      "source": [
        "%time for p in Path('data/train').iterdir(): create_train_txts_from_df(p)"
      ],
      "execution_count": 26,
      "outputs": [
        {
          "output_type": "stream",
          "text": [
            "CPU times: user 8min 9s, sys: 37.3 s, total: 8min 46s\n",
            "Wall time: 9min 19s\n"
          ],
          "name": "stdout"
        }
      ]
    },
    {
      "metadata": {
        "id": "CFulNnfM-WJO",
        "colab_type": "code",
        "colab": {
          "base_uri": "https://localhost:8080/",
          "height": 67
        },
        "outputId": "7a3981b4-6d02-4671-fd74-47e66716c74d"
      },
      "cell_type": "code",
      "source": [
        "%pwd\n",
        "%ls -l data/txt/train/crab | wc -l\n",
        "%ls -l data/txt/train/horse | wc -l\n",
        "%ls -l data/txt/train/sheep | wc -l"
      ],
      "execution_count": 33,
      "outputs": [
        {
          "output_type": "stream",
          "text": [
            "1001\n",
            "1001\n",
            "1001\n"
          ],
          "name": "stdout"
        }
      ]
    },
    {
      "metadata": {
        "id": "FPCIzgcR_H7S",
        "colab_type": "text"
      },
      "cell_type": "markdown",
      "source": [
        "There should be 1001 samples in each folder for each of the pictures.  Note that the label for the figure is in the folder (e.g. crab, horse, sheep, etc.)"
      ]
    },
    {
      "metadata": {
        "id": "2TmcCFJLEMxv",
        "colab_type": "code",
        "colab": {}
      },
      "cell_type": "code",
      "source": [
        "sz = 128\n",
        "bs = 640"
      ],
      "execution_count": 0,
      "outputs": []
    },
    {
      "metadata": {
        "id": "FHniu9IKEM0Z",
        "colab_type": "code",
        "colab": {}
      },
      "cell_type": "code",
      "source": [
        "def create_func(path):\n",
        "    with open(path) as f: j = json.load(f)\n",
        "    drawing = list2drawing(j['drawing'], size=sz)\n",
        "    tensor = drawing2tensor(drawing)\n",
        "    return Image(tensor.div_(255))"
      ],
      "execution_count": 0,
      "outputs": []
    },
    {
      "metadata": {
        "id": "eno-kaNtET73",
        "colab_type": "code",
        "outputId": "63118c08-59a3-46d3-b448-06313e7b75ed",
        "colab": {
          "base_uri": "https://localhost:8080/",
          "height": 87
        }
      },
      "cell_type": "code",
      "source": [
        "item_list = ItemList.from_folder(PATH/'train', create_func=create_func)\n",
        "print(item_list)"
      ],
      "execution_count": 36,
      "outputs": [
        {
          "output_type": "stream",
          "text": [
            "ItemList (340000 items)\n",
            "[Image (3, 128, 128), Image (3, 128, 128), Image (3, 128, 128), Image (3, 128, 128), Image (3, 128, 128)]...\n",
            "Path: data/txt/train\n"
          ],
          "name": "stdout"
        }
      ]
    },
    {
      "metadata": {
        "id": "GrX2wdXe_h8K",
        "colab_type": "text"
      },
      "cell_type": "markdown",
      "source": [
        "there should be 340,000 images that will be use for our training."
      ]
    },
    {
      "metadata": {
        "id": "QKChw2B1ET_H",
        "colab_type": "code",
        "outputId": "825abe22-6b20-4563-b1ce-4829d508a669",
        "colab": {
          "base_uri": "https://localhost:8080/",
          "height": 67
        }
      },
      "cell_type": "code",
      "source": [
        "idxs = np.arange(item_list.items.shape[0])\n",
        "print(idxs)\n",
        "np.random.shuffle(idxs)\n",
        "val_idxs = idxs[:NUM_VAL]\n",
        "print(val_idxs)\n",
        "print(len(val_idxs))"
      ],
      "execution_count": 40,
      "outputs": [
        {
          "output_type": "stream",
          "text": [
            "[     0      1      2      3 ... 339996 339997 339998 339999]\n",
            "[313783 295016  24344 138824 ...   1281 269085  18742  84822]\n",
            "17000\n"
          ],
          "name": "stdout"
        }
      ]
    },
    {
      "metadata": {
        "id": "YToiuoEP_qVF",
        "colab_type": "text"
      },
      "cell_type": "markdown",
      "source": [
        "We select 17,000 samples randomly.  This is set with the NUM_VAL constant above.  17,000 = 50 * 340. 340 is the number of labels."
      ]
    },
    {
      "metadata": {
        "id": "U5p7lmzgE5vN",
        "colab_type": "code",
        "outputId": "675bb104-faf9-443a-f1aa-8b06fa98d110",
        "colab": {
          "base_uri": "https://localhost:8080/",
          "height": 171
        }
      },
      "cell_type": "code",
      "source": [
        "item_lists = item_list.split_by_idx(val_idxs)\n",
        "print(item_lists)"
      ],
      "execution_count": 41,
      "outputs": [
        {
          "output_type": "stream",
          "text": [
            "ItemLists;\n",
            "Train: ItemList (323000 items)\n",
            "[Image (3, 128, 128), Image (3, 128, 128), Image (3, 128, 128), Image (3, 128, 128), Image (3, 128, 128)]...\n",
            "Path: data/txt/train;\n",
            "Valid: ItemList (17000 items)\n",
            "[Image (3, 128, 128), Image (3, 128, 128), Image (3, 128, 128), Image (3, 128, 128), Image (3, 128, 128)]...\n",
            "Path: data/txt/train;\n",
            "Test: None\n"
          ],
          "name": "stdout"
        }
      ]
    },
    {
      "metadata": {
        "id": "mmOZYvTWFL9V",
        "colab_type": "code",
        "colab": {}
      },
      "cell_type": "code",
      "source": [
        "label_lists = item_lists.label_from_folder()\n",
        "pd.to_pickle(label_lists.train.y.classes, 'data/classes.pkl')"
      ],
      "execution_count": 0,
      "outputs": []
    },
    {
      "metadata": {
        "id": "pgwOEZzzAaAD",
        "colab_type": "text"
      },
      "cell_type": "markdown",
      "source": [
        "Refresh the files on the right.  You see a new file created: `data/classess.pkl`"
      ]
    },
    {
      "metadata": {
        "id": "BuSSfuFEFrgj",
        "colab_type": "code",
        "colab": {}
      },
      "cell_type": "code",
      "source": [
        "classes = pd.read_pickle('data/classes.pkl')\n",
        "\n",
        "label_lists = item_lists.label_from_folder(classes=classes)\n",
        "\n",
        "test_items = ItemList.from_folder(PATH/'test', create_func=create_func)\n",
        "label_lists.add_test(test_items);\n"
      ],
      "execution_count": 0,
      "outputs": []
    },
    {
      "metadata": {
        "id": "2BQBDg3OJ6_o",
        "colab_type": "code",
        "colab": {}
      },
      "cell_type": "code",
      "source": [
        "\n",
        "train_dl = DataLoader(label_lists.train, bs, True, num_workers=12)\n",
        "valid_dl = DataLoader(label_lists.valid, 2*bs, False, num_workers=12)\n",
        "test_dl = DataLoader(label_lists.test, 2*bs, False, num_workers=12)\n",
        "\n",
        "data_bunch = ImageDataBunch(train_dl, valid_dl, test_dl)"
      ],
      "execution_count": 0,
      "outputs": []
    },
    {
      "metadata": {
        "id": "ZeZIv4fjA_Zu",
        "colab_type": "text"
      },
      "cell_type": "markdown",
      "source": [
        "Dataloader is a FastAi class to load the labels for the train and test set."
      ]
    },
    {
      "metadata": {
        "id": "g6FIoPBYKET1",
        "colab_type": "code",
        "colab": {}
      },
      "cell_type": "code",
      "source": [
        "pd.to_pickle(data_bunch.batch_stats(), f'data/batch_stats_{sz}.pkl')"
      ],
      "execution_count": 0,
      "outputs": []
    },
    {
      "metadata": {
        "id": "n9eF-l4gBMi9",
        "colab_type": "text"
      },
      "cell_type": "markdown",
      "source": [
        "Refresh files on right panel and check that a new file called `batch_stats_128.pkl` is created."
      ]
    },
    {
      "metadata": {
        "id": "3wxMJwF9KSt8",
        "colab_type": "code",
        "colab": {}
      },
      "cell_type": "code",
      "source": [
        "batch_stats = pd.read_pickle(f'data/batch_stats_{sz}.pkl')"
      ],
      "execution_count": 0,
      "outputs": []
    },
    {
      "metadata": {
        "id": "SHsqXlx1Kivk",
        "colab_type": "code",
        "colab": {}
      },
      "cell_type": "code",
      "source": [
        "data_bunch.normalize(batch_stats);"
      ],
      "execution_count": 0,
      "outputs": []
    },
    {
      "metadata": {
        "id": "FmW3k5ckKmpV",
        "colab_type": "code",
        "outputId": "972c8b34-f359-4ab2-f0e4-39b4bcbdc59f",
        "colab": {
          "base_uri": "https://localhost:8080/",
          "height": 719
        }
      },
      "cell_type": "code",
      "source": [
        "data_bunch.show_batch(rows=4)"
      ],
      "execution_count": 48,
      "outputs": [
        {
          "output_type": "display_data",
          "data": {
            "image/png": "[encoded data removed]",
            "text/plain": [
              "<matplotlib.figure.Figure at 0x7f9741c77710>"
            ]
          },
          "metadata": {
            "tags": []
          }
        }
      ]
    },
    {
      "metadata": {
        "id": "4fZr4NXEkJJP",
        "colab_type": "code",
        "outputId": "5aa76b13-ebe2-434e-bddd-1beb22495b28",
        "colab": {
          "base_uri": "https://localhost:8080/",
          "height": 1445
        }
      },
      "cell_type": "code",
      "source": [
        "%ls data/txt/train"
      ],
      "execution_count": 49,
      "outputs": [
        {
          "output_type": "stream",
          "text": [
            "\u001b[0m\u001b[01;34mairplane\u001b[0m/          \u001b[01;34mcruise_ship\u001b[0m/      \u001b[01;34mline\u001b[0m/            \u001b[01;34mshoe\u001b[0m/\n",
            "\u001b[01;34malarm_clock\u001b[0m/       \u001b[01;34mcup\u001b[0m/              \u001b[01;34mlion\u001b[0m/            \u001b[01;34mshorts\u001b[0m/\n",
            "\u001b[01;34mambulance\u001b[0m/         \u001b[01;34mdiamond\u001b[0m/          \u001b[01;34mlipstick\u001b[0m/        \u001b[01;34mshovel\u001b[0m/\n",
            "\u001b[01;34mangel\u001b[0m/             \u001b[01;34mdishwasher\u001b[0m/       \u001b[01;34mlobster\u001b[0m/         \u001b[01;34msink\u001b[0m/\n",
            "\u001b[01;34manimal_migration\u001b[0m/  \u001b[01;34mdiving_board\u001b[0m/     \u001b[01;34mlollipop\u001b[0m/        \u001b[01;34mskateboard\u001b[0m/\n",
            "\u001b[01;34mant\u001b[0m/               \u001b[01;34mdog\u001b[0m/              \u001b[01;34mmailbox\u001b[0m/         \u001b[01;34mskull\u001b[0m/\n",
            "\u001b[01;34manvil\u001b[0m/             \u001b[01;34mdolphin\u001b[0m/          \u001b[01;34mmap\u001b[0m/             \u001b[01;34mskyscraper\u001b[0m/\n",
            "\u001b[01;34mapple\u001b[0m/             \u001b[01;34mdonut\u001b[0m/            \u001b[01;34mmarker\u001b[0m/          \u001b[01;34msleeping_bag\u001b[0m/\n",
            "\u001b[01;34marm\u001b[0m/               \u001b[01;34mdoor\u001b[0m/             \u001b[01;34mmatches\u001b[0m/         \u001b[01;34msmiley_face\u001b[0m/\n",
            "\u001b[01;34masparagus\u001b[0m/         \u001b[01;34mdragon\u001b[0m/           \u001b[01;34mmegaphone\u001b[0m/       \u001b[01;34msnail\u001b[0m/\n",
            "\u001b[01;34maxe\u001b[0m/               \u001b[01;34mdresser\u001b[0m/          \u001b[01;34mmermaid\u001b[0m/         \u001b[01;34msnake\u001b[0m/\n",
            "\u001b[01;34mbackpack\u001b[0m/          \u001b[01;34mdrill\u001b[0m/            \u001b[01;34mmicrophone\u001b[0m/      \u001b[01;34msnorkel\u001b[0m/\n",
            "\u001b[01;34mbanana\u001b[0m/            \u001b[01;34mdrums\u001b[0m/            \u001b[01;34mmicrowave\u001b[0m/       \u001b[01;34msnowflake\u001b[0m/\n",
            "\u001b[01;34mbandage\u001b[0m/           \u001b[01;34mduck\u001b[0m/             \u001b[01;34mmonkey\u001b[0m/          \u001b[01;34msnowman\u001b[0m/\n",
            "\u001b[01;34mbarn\u001b[0m/              \u001b[01;34mdumbbell\u001b[0m/         \u001b[01;34mmoon\u001b[0m/            \u001b[01;34msoccer_ball\u001b[0m/\n",
            "\u001b[01;34mbaseball\u001b[0m/          \u001b[01;34mear\u001b[0m/              \u001b[01;34mmosquito\u001b[0m/        \u001b[01;34msock\u001b[0m/\n",
            "\u001b[01;34mbaseball_bat\u001b[0m/      \u001b[01;34melbow\u001b[0m/            \u001b[01;34mmotorbike\u001b[0m/       \u001b[01;34mspeedboat\u001b[0m/\n",
            "\u001b[01;34mbasket\u001b[0m/            \u001b[01;34melephant\u001b[0m/         \u001b[01;34mmountain\u001b[0m/        \u001b[01;34mspider\u001b[0m/\n",
            "\u001b[01;34mbasketball\u001b[0m/        \u001b[01;34menvelope\u001b[0m/         \u001b[01;34mmouse\u001b[0m/           \u001b[01;34mspoon\u001b[0m/\n",
            "\u001b[01;34mbat\u001b[0m/               \u001b[01;34meraser\u001b[0m/           \u001b[01;34mmoustache\u001b[0m/       \u001b[01;34mspreadsheet\u001b[0m/\n",
            "\u001b[01;34mbathtub\u001b[0m/           \u001b[01;34meye\u001b[0m/              \u001b[01;34mmouth\u001b[0m/           \u001b[01;34msquare\u001b[0m/\n",
            "\u001b[01;34mbeach\u001b[0m/             \u001b[01;34meyeglasses\u001b[0m/       \u001b[01;34mmug\u001b[0m/             \u001b[01;34msquiggle\u001b[0m/\n",
            "\u001b[01;34mbear\u001b[0m/              \u001b[01;34mface\u001b[0m/             \u001b[01;34mmushroom\u001b[0m/        \u001b[01;34msquirrel\u001b[0m/\n",
            "\u001b[01;34mbeard\u001b[0m/             \u001b[01;34mfan\u001b[0m/              \u001b[01;34mnail\u001b[0m/            \u001b[01;34mstairs\u001b[0m/\n",
            "\u001b[01;34mbed\u001b[0m/               \u001b[01;34mfeather\u001b[0m/          \u001b[01;34mnecklace\u001b[0m/        \u001b[01;34mstar\u001b[0m/\n",
            "\u001b[01;34mbee\u001b[0m/               \u001b[01;34mfence\u001b[0m/            \u001b[01;34mnose\u001b[0m/            \u001b[01;34msteak\u001b[0m/\n",
            "\u001b[01;34mbelt\u001b[0m/              \u001b[01;34mfinger\u001b[0m/           \u001b[01;34mocean\u001b[0m/           \u001b[01;34mstereo\u001b[0m/\n",
            "\u001b[01;34mbench\u001b[0m/             \u001b[01;34mfire_hydrant\u001b[0m/     \u001b[01;34moctagon\u001b[0m/         \u001b[01;34mstethoscope\u001b[0m/\n",
            "\u001b[01;34mbicycle\u001b[0m/           \u001b[01;34mfireplace\u001b[0m/        \u001b[01;34moctopus\u001b[0m/         \u001b[01;34mstitches\u001b[0m/\n",
            "\u001b[01;34mbinoculars\u001b[0m/        \u001b[01;34mfiretruck\u001b[0m/        \u001b[01;34monion\u001b[0m/           \u001b[01;34mstop_sign\u001b[0m/\n",
            "\u001b[01;34mbird\u001b[0m/              \u001b[01;34mfish\u001b[0m/             \u001b[01;34moven\u001b[0m/            \u001b[01;34mstove\u001b[0m/\n",
            "\u001b[01;34mbirthday_cake\u001b[0m/     \u001b[01;34mflamingo\u001b[0m/         \u001b[01;34mowl\u001b[0m/             \u001b[01;34mstrawberry\u001b[0m/\n",
            "\u001b[01;34mblackberry\u001b[0m/        \u001b[01;34mflashlight\u001b[0m/       \u001b[01;34mpaintbrush\u001b[0m/      \u001b[01;34mstreetlight\u001b[0m/\n",
            "\u001b[01;34mblueberry\u001b[0m/         \u001b[01;34mflip_flops\u001b[0m/       \u001b[01;34mpaint_can\u001b[0m/       \u001b[01;34mstring_bean\u001b[0m/\n",
            "\u001b[01;34mbook\u001b[0m/              \u001b[01;34mfloor_lamp\u001b[0m/       \u001b[01;34mpalm_tree\u001b[0m/       \u001b[01;34msubmarine\u001b[0m/\n",
            "\u001b[01;34mboomerang\u001b[0m/         \u001b[01;34mflower\u001b[0m/           \u001b[01;34mpanda\u001b[0m/           \u001b[01;34msuitcase\u001b[0m/\n",
            "\u001b[01;34mbottlecap\u001b[0m/         \u001b[01;34mflying_saucer\u001b[0m/    \u001b[01;34mpants\u001b[0m/           \u001b[01;34msun\u001b[0m/\n",
            "\u001b[01;34mbowtie\u001b[0m/            \u001b[01;34mfoot\u001b[0m/             \u001b[01;34mpaper_clip\u001b[0m/      \u001b[01;34mswan\u001b[0m/\n",
            "\u001b[01;34mbracelet\u001b[0m/          \u001b[01;34mfork\u001b[0m/             \u001b[01;34mparachute\u001b[0m/       \u001b[01;34msweater\u001b[0m/\n",
            "\u001b[01;34mbrain\u001b[0m/             \u001b[01;34mfrog\u001b[0m/             \u001b[01;34mparrot\u001b[0m/          \u001b[01;34mswing_set\u001b[0m/\n",
            "\u001b[01;34mbread\u001b[0m/             \u001b[01;34mfrying_pan\u001b[0m/       \u001b[01;34mpassport\u001b[0m/        \u001b[01;34msword\u001b[0m/\n",
            "\u001b[01;34mbridge\u001b[0m/            \u001b[01;34mgarden\u001b[0m/           \u001b[01;34mpeanut\u001b[0m/          \u001b[01;34mtable\u001b[0m/\n",
            "\u001b[01;34mbroccoli\u001b[0m/          \u001b[01;34mgarden_hose\u001b[0m/      \u001b[01;34mpear\u001b[0m/            \u001b[01;34mteapot\u001b[0m/\n",
            "\u001b[01;34mbroom\u001b[0m/             \u001b[01;34mgiraffe\u001b[0m/          \u001b[01;34mpeas\u001b[0m/            \u001b[01;34mteddy-bear\u001b[0m/\n",
            "\u001b[01;34mbucket\u001b[0m/            \u001b[01;34mgoatee\u001b[0m/           \u001b[01;34mpencil\u001b[0m/          \u001b[01;34mtelephone\u001b[0m/\n",
            "\u001b[01;34mbulldozer\u001b[0m/         \u001b[01;34mgolf_club\u001b[0m/        \u001b[01;34mpenguin\u001b[0m/         \u001b[01;34mtelevision\u001b[0m/\n",
            "\u001b[01;34mbus\u001b[0m/               \u001b[01;34mgrapes\u001b[0m/           \u001b[01;34mpiano\u001b[0m/           \u001b[01;34mtennis_racquet\u001b[0m/\n",
            "\u001b[01;34mbush\u001b[0m/              \u001b[01;34mgrass\u001b[0m/            \u001b[01;34mpickup_truck\u001b[0m/    \u001b[01;34mtent\u001b[0m/\n",
            "\u001b[01;34mbutterfly\u001b[0m/         \u001b[01;34mguitar\u001b[0m/           \u001b[01;34mpicture_frame\u001b[0m/   \u001b[01;34mThe_Eiffel_Tower\u001b[0m/\n",
            "\u001b[01;34mcactus\u001b[0m/            \u001b[01;34mhamburger\u001b[0m/        \u001b[01;34mpig\u001b[0m/             \u001b[01;34mThe_Great_Wall_of_China\u001b[0m/\n",
            "\u001b[01;34mcake\u001b[0m/              \u001b[01;34mhammer\u001b[0m/           \u001b[01;34mpillow\u001b[0m/          \u001b[01;34mThe_Mona_Lisa\u001b[0m/\n",
            "\u001b[01;34mcalculator\u001b[0m/        \u001b[01;34mhand\u001b[0m/             \u001b[01;34mpineapple\u001b[0m/       \u001b[01;34mtiger\u001b[0m/\n",
            "\u001b[01;34mcalendar\u001b[0m/          \u001b[01;34mharp\u001b[0m/             \u001b[01;34mpizza\u001b[0m/           \u001b[01;34mtoaster\u001b[0m/\n",
            "\u001b[01;34mcamel\u001b[0m/             \u001b[01;34mhat\u001b[0m/              \u001b[01;34mpliers\u001b[0m/          \u001b[01;34mtoe\u001b[0m/\n",
            "\u001b[01;34mcamera\u001b[0m/            \u001b[01;34mheadphones\u001b[0m/       \u001b[01;34mpolice_car\u001b[0m/      \u001b[01;34mtoilet\u001b[0m/\n",
            "\u001b[01;34mcamouflage\u001b[0m/        \u001b[01;34mhedgehog\u001b[0m/         \u001b[01;34mpond\u001b[0m/            \u001b[01;34mtooth\u001b[0m/\n",
            "\u001b[01;34mcampfire\u001b[0m/          \u001b[01;34mhelicopter\u001b[0m/       \u001b[01;34mpool\u001b[0m/            \u001b[01;34mtoothbrush\u001b[0m/\n",
            "\u001b[01;34mcandle\u001b[0m/            \u001b[01;34mhelmet\u001b[0m/           \u001b[01;34mpopsicle\u001b[0m/        \u001b[01;34mtoothpaste\u001b[0m/\n",
            "\u001b[01;34mcannon\u001b[0m/            \u001b[01;34mhexagon\u001b[0m/          \u001b[01;34mpostcard\u001b[0m/        \u001b[01;34mtornado\u001b[0m/\n",
            "\u001b[01;34mcanoe\u001b[0m/             \u001b[01;34mhockey_puck\u001b[0m/      \u001b[01;34mpotato\u001b[0m/          \u001b[01;34mtractor\u001b[0m/\n",
            "\u001b[01;34mcar\u001b[0m/               \u001b[01;34mhockey_stick\u001b[0m/     \u001b[01;34mpower_outlet\u001b[0m/    \u001b[01;34mtraffic_light\u001b[0m/\n",
            "\u001b[01;34mcarrot\u001b[0m/            \u001b[01;34mhorse\u001b[0m/            \u001b[01;34mpurse\u001b[0m/           \u001b[01;34mtrain\u001b[0m/\n",
            "\u001b[01;34mcastle\u001b[0m/            \u001b[01;34mhospital\u001b[0m/         \u001b[01;34mrabbit\u001b[0m/          \u001b[01;34mtree\u001b[0m/\n",
            "\u001b[01;34mcat\u001b[0m/               \u001b[01;34mhot_air_balloon\u001b[0m/  \u001b[01;34mraccoon\u001b[0m/         \u001b[01;34mtriangle\u001b[0m/\n",
            "\u001b[01;34mceiling_fan\u001b[0m/       \u001b[01;34mhot_dog\u001b[0m/          \u001b[01;34mradio\u001b[0m/           \u001b[01;34mtrombone\u001b[0m/\n",
            "\u001b[01;34mcello\u001b[0m/             \u001b[01;34mhot_tub\u001b[0m/          \u001b[01;34mrain\u001b[0m/            \u001b[01;34mtruck\u001b[0m/\n",
            "\u001b[01;34mcell_phone\u001b[0m/        \u001b[01;34mhourglass\u001b[0m/        \u001b[01;34mrainbow\u001b[0m/         \u001b[01;34mtrumpet\u001b[0m/\n",
            "\u001b[01;34mchair\u001b[0m/             \u001b[01;34mhouse\u001b[0m/            \u001b[01;34mrake\u001b[0m/            \u001b[01;34mt-shirt\u001b[0m/\n",
            "\u001b[01;34mchandelier\u001b[0m/        \u001b[01;34mhouse_plant\u001b[0m/      \u001b[01;34mremote_control\u001b[0m/  \u001b[01;34mumbrella\u001b[0m/\n",
            "\u001b[01;34mchurch\u001b[0m/            \u001b[01;34mhurricane\u001b[0m/        \u001b[01;34mrhinoceros\u001b[0m/      \u001b[01;34munderwear\u001b[0m/\n",
            "\u001b[01;34mcircle\u001b[0m/            \u001b[01;34mice_cream\u001b[0m/        \u001b[01;34mriver\u001b[0m/           \u001b[01;34mvan\u001b[0m/\n",
            "\u001b[01;34mclarinet\u001b[0m/          \u001b[01;34mjacket\u001b[0m/           \u001b[01;34mroller_coaster\u001b[0m/  \u001b[01;34mvase\u001b[0m/\n",
            "\u001b[01;34mclock\u001b[0m/             \u001b[01;34mjail\u001b[0m/             \u001b[01;34mrollerskates\u001b[0m/    \u001b[01;34mviolin\u001b[0m/\n",
            "\u001b[01;34mcloud\u001b[0m/             \u001b[01;34mkangaroo\u001b[0m/         \u001b[01;34msailboat\u001b[0m/        \u001b[01;34mwashing_machine\u001b[0m/\n",
            "\u001b[01;34mcoffee_cup\u001b[0m/        \u001b[01;34mkey\u001b[0m/              \u001b[01;34msandwich\u001b[0m/        \u001b[01;34mwatermelon\u001b[0m/\n",
            "\u001b[01;34mcompass\u001b[0m/           \u001b[01;34mkeyboard\u001b[0m/         \u001b[01;34msaw\u001b[0m/             \u001b[01;34mwaterslide\u001b[0m/\n",
            "\u001b[01;34mcomputer\u001b[0m/          \u001b[01;34mknee\u001b[0m/             \u001b[01;34msaxophone\u001b[0m/       \u001b[01;34mwhale\u001b[0m/\n",
            "\u001b[01;34mcookie\u001b[0m/            \u001b[01;34mladder\u001b[0m/           \u001b[01;34mschool_bus\u001b[0m/      \u001b[01;34mwheel\u001b[0m/\n",
            "\u001b[01;34mcooler\u001b[0m/            \u001b[01;34mlantern\u001b[0m/          \u001b[01;34mscissors\u001b[0m/        \u001b[01;34mwindmill\u001b[0m/\n",
            "\u001b[01;34mcouch\u001b[0m/             \u001b[01;34mlaptop\u001b[0m/           \u001b[01;34mscorpion\u001b[0m/        \u001b[01;34mwine_bottle\u001b[0m/\n",
            "\u001b[01;34mcow\u001b[0m/               \u001b[01;34mleaf\u001b[0m/             \u001b[01;34mscrewdriver\u001b[0m/     \u001b[01;34mwine_glass\u001b[0m/\n",
            "\u001b[01;34mcrab\u001b[0m/              \u001b[01;34mleg\u001b[0m/              \u001b[01;34msea_turtle\u001b[0m/      \u001b[01;34mwristwatch\u001b[0m/\n",
            "\u001b[01;34mcrayon\u001b[0m/            \u001b[01;34mlight_bulb\u001b[0m/       \u001b[01;34msee_saw\u001b[0m/         \u001b[01;34myoga\u001b[0m/\n",
            "\u001b[01;34mcrocodile\u001b[0m/         \u001b[01;34mlighthouse\u001b[0m/       \u001b[01;34mshark\u001b[0m/           \u001b[01;34mzebra\u001b[0m/\n",
            "\u001b[01;34mcrown\u001b[0m/             \u001b[01;34mlightning\u001b[0m/        \u001b[01;34msheep\u001b[0m/           \u001b[01;34mzigzag\u001b[0m/\n"
          ],
          "name": "stdout"
        }
      ]
    },
    {
      "metadata": {
        "id": "tXc4CF0wBi_y",
        "colab_type": "text"
      },
      "cell_type": "markdown",
      "source": [
        "There should be 340 folders for each of the labels.  Each label has 1,000 samples, for a total of 340,000 samples."
      ]
    },
    {
      "metadata": {
        "id": "3yU2H4LJK4Ms",
        "colab_type": "code",
        "colab": {}
      },
      "cell_type": "code",
      "source": [
        "name = f'res34-{sz}'"
      ],
      "execution_count": 0,
      "outputs": []
    },
    {
      "metadata": {
        "id": "wjOI3YfEK8Bb",
        "colab_type": "code",
        "colab": {
          "base_uri": "https://localhost:8080/",
          "height": 70
        },
        "outputId": "d7ebe7d3-ed84-4bcd-c91a-c4de9a7c17f4"
      },
      "cell_type": "code",
      "source": [
        "learn = create_cnn(data_bunch, models.resnet34, metrics=[accuracy, map3])\n"
      ],
      "execution_count": 51,
      "outputs": [
        {
          "output_type": "stream",
          "text": [
            "Downloading: \"https://download.pytorch.org/models/resnet34-333f7ec4.pth\" to /root/.torch/models/resnet34-333f7ec4.pth\n",
            "100%|██████████| 87306240/87306240 [00:01<00:00, 76844800.42it/s]\n"
          ],
          "name": "stderr"
        }
      ]
    },
    {
      "metadata": {
        "id": "bU2TSEofHohK",
        "colab_type": "text"
      },
      "cell_type": "markdown",
      "source": [
        "[Pythorch Model](https://pytorch.org/docs/stable/torchvision/models.html) using this [paper ](https://arxiv.org/abs/1512.03385)from Microsoft Research."
      ]
    },
    {
      "metadata": {
        "id": "ERF0TZ-kK8EA",
        "colab_type": "code",
        "outputId": "f1807006-6868-4fbe-fc17-8d9986e75105",
        "colab": {
          "base_uri": "https://localhost:8080/",
          "height": 131
        }
      },
      "cell_type": "code",
      "source": [
        "learn.fit_one_cycle(2)"
      ],
      "execution_count": 52,
      "outputs": [
        {
          "output_type": "display_data",
          "data": {
            "text/html": [
              "Total time: 24:46 <p><table style='width:3375px; margin-bottom:10px'>\n",
              "  <tr>\n",
              "    <th>e</th>\n",
              "    <th>p</th>\n",
              "    <th>o</th>\n",
              "    <th>c</th>\n",
              "    <th>h</th>\n",
              "    <th> </th>\n",
              "    <th> </th>\n",
              "    <th>t</th>\n",
              "    <th>r</th>\n",
              "    <th>a</th>\n",
              "    <th>i</th>\n",
              "    <th>n</th>\n",
              "    <th>_</th>\n",
              "    <th>l</th>\n",
              "    <th>o</th>\n",
              "    <th>s</th>\n",
              "    <th>s</th>\n",
              "    <th> </th>\n",
              "    <th> </th>\n",
              "    <th>v</th>\n",
              "    <th>a</th>\n",
              "    <th>l</th>\n",
              "    <th>i</th>\n",
              "    <th>d</th>\n",
              "    <th>_</th>\n",
              "    <th>l</th>\n",
              "    <th>o</th>\n",
              "    <th>s</th>\n",
              "    <th>s</th>\n",
              "    <th> </th>\n",
              "    <th> </th>\n",
              "    <th>a</th>\n",
              "    <th>c</th>\n",
              "    <th>c</th>\n",
              "    <th>u</th>\n",
              "    <th>r</th>\n",
              "    <th>a</th>\n",
              "    <th>c</th>\n",
              "    <th>y</th>\n",
              "    <th> </th>\n",
              "    <th> </th>\n",
              "    <th>m</th>\n",
              "    <th>a</th>\n",
              "    <th>p</th>\n",
              "    <th>3</th>\n",
              "  </tr>\n",
              "  <tr>\n",
              "    <th>1</th>\n",
              "    <th> </th>\n",
              "    <th> </th>\n",
              "    <th> </th>\n",
              "    <th> </th>\n",
              "    <th> </th>\n",
              "    <th> </th>\n",
              "    <th>1</th>\n",
              "    <th>.</th>\n",
              "    <th>9</th>\n",
              "    <th>3</th>\n",
              "    <th>5</th>\n",
              "    <th>1</th>\n",
              "    <th>3</th>\n",
              "    <th>3</th>\n",
              "    <th> </th>\n",
              "    <th> </th>\n",
              "    <th> </th>\n",
              "    <th> </th>\n",
              "    <th>1</th>\n",
              "    <th>.</th>\n",
              "    <th>6</th>\n",
              "    <th>0</th>\n",
              "    <th>4</th>\n",
              "    <th>7</th>\n",
              "    <th>9</th>\n",
              "    <th>2</th>\n",
              "    <th> </th>\n",
              "    <th> </th>\n",
              "    <th> </th>\n",
              "    <th> </th>\n",
              "    <th>0</th>\n",
              "    <th>.</th>\n",
              "    <th>6</th>\n",
              "    <th>0</th>\n",
              "    <th>7</th>\n",
              "    <th>1</th>\n",
              "    <th>1</th>\n",
              "    <th>8</th>\n",
              "    <th> </th>\n",
              "    <th> </th>\n",
              "    <th>0</th>\n",
              "    <th>.</th>\n",
              "    <th>6</th>\n",
              "    <th>9</th>\n",
              "    <th>2</th>\n",
              "    <th>2</th>\n",
              "    <th>6</th>\n",
              "    <th>5</th>\n",
              "  </tr>\n",
              "  <tr>\n",
              "    <th>2</th>\n",
              "    <th> </th>\n",
              "    <th> </th>\n",
              "    <th> </th>\n",
              "    <th> </th>\n",
              "    <th> </th>\n",
              "    <th> </th>\n",
              "    <th>1</th>\n",
              "    <th>.</th>\n",
              "    <th>6</th>\n",
              "    <th>6</th>\n",
              "    <th>4</th>\n",
              "    <th>6</th>\n",
              "    <th>3</th>\n",
              "    <th>7</th>\n",
              "    <th> </th>\n",
              "    <th> </th>\n",
              "    <th> </th>\n",
              "    <th> </th>\n",
              "    <th>1</th>\n",
              "    <th>.</th>\n",
              "    <th>4</th>\n",
              "    <th>3</th>\n",
              "    <th>6</th>\n",
              "    <th>4</th>\n",
              "    <th>2</th>\n",
              "    <th>3</th>\n",
              "    <th> </th>\n",
              "    <th> </th>\n",
              "    <th> </th>\n",
              "    <th> </th>\n",
              "    <th>0</th>\n",
              "    <th>.</th>\n",
              "    <th>6</th>\n",
              "    <th>4</th>\n",
              "    <th>4</th>\n",
              "    <th>8</th>\n",
              "    <th>8</th>\n",
              "    <th>2</th>\n",
              "    <th> </th>\n",
              "    <th> </th>\n",
              "    <th>0</th>\n",
              "    <th>.</th>\n",
              "    <th>7</th>\n",
              "    <th>2</th>\n",
              "    <th>6</th>\n",
              "    <th>8</th>\n",
              "    <th>9</th>\n",
              "    <th>2</th>\n",
              "  </tr>\n",
              "</table>\n"
            ],
            "text/plain": [
              "<IPython.core.display.HTML object>"
            ]
          },
          "metadata": {
            "tags": []
          }
        }
      ]
    },
    {
      "metadata": {
        "id": "yFpqsBBSSk2g",
        "colab_type": "code",
        "colab": {}
      },
      "cell_type": "code",
      "source": [
        "learn.save(f'{name}-stage-1')"
      ],
      "execution_count": 0,
      "outputs": []
    },
    {
      "metadata": {
        "id": "Sr0M2G5pH7f4",
        "colab_type": "text"
      },
      "cell_type": "markdown",
      "source": [
        "The file `res34-128-stage-1.pth` should be now in `models` folder"
      ]
    },
    {
      "metadata": {
        "id": "r6fj8IATSzoP",
        "colab_type": "code",
        "colab": {}
      },
      "cell_type": "code",
      "source": [
        "learn.unfreeze()"
      ],
      "execution_count": 0,
      "outputs": []
    },
    {
      "metadata": {
        "id": "sR64TqVwS38G",
        "colab_type": "code",
        "outputId": "1355b5f2-cd2c-40f3-cff4-8718c0f8ca6f",
        "colab": {
          "base_uri": "https://localhost:8080/",
          "height": 211
        }
      },
      "cell_type": "code",
      "source": [
        "learn.fit_one_cycle(6, max_lr=6e-4)\n"
      ],
      "execution_count": 55,
      "outputs": [
        {
          "output_type": "display_data",
          "data": {
            "text/html": [
              "Total time: 1:40:27 <p><table style='width:3375px; margin-bottom:10px'>\n",
              "  <tr>\n",
              "    <th>e</th>\n",
              "    <th>p</th>\n",
              "    <th>o</th>\n",
              "    <th>c</th>\n",
              "    <th>h</th>\n",
              "    <th> </th>\n",
              "    <th> </th>\n",
              "    <th>t</th>\n",
              "    <th>r</th>\n",
              "    <th>a</th>\n",
              "    <th>i</th>\n",
              "    <th>n</th>\n",
              "    <th>_</th>\n",
              "    <th>l</th>\n",
              "    <th>o</th>\n",
              "    <th>s</th>\n",
              "    <th>s</th>\n",
              "    <th> </th>\n",
              "    <th> </th>\n",
              "    <th>v</th>\n",
              "    <th>a</th>\n",
              "    <th>l</th>\n",
              "    <th>i</th>\n",
              "    <th>d</th>\n",
              "    <th>_</th>\n",
              "    <th>l</th>\n",
              "    <th>o</th>\n",
              "    <th>s</th>\n",
              "    <th>s</th>\n",
              "    <th> </th>\n",
              "    <th> </th>\n",
              "    <th>a</th>\n",
              "    <th>c</th>\n",
              "    <th>c</th>\n",
              "    <th>u</th>\n",
              "    <th>r</th>\n",
              "    <th>a</th>\n",
              "    <th>c</th>\n",
              "    <th>y</th>\n",
              "    <th> </th>\n",
              "    <th> </th>\n",
              "    <th>m</th>\n",
              "    <th>a</th>\n",
              "    <th>p</th>\n",
              "    <th>3</th>\n",
              "  </tr>\n",
              "  <tr>\n",
              "    <th>1</th>\n",
              "    <th> </th>\n",
              "    <th> </th>\n",
              "    <th> </th>\n",
              "    <th> </th>\n",
              "    <th> </th>\n",
              "    <th> </th>\n",
              "    <th>1</th>\n",
              "    <th>.</th>\n",
              "    <th>4</th>\n",
              "    <th>4</th>\n",
              "    <th>8</th>\n",
              "    <th>8</th>\n",
              "    <th>3</th>\n",
              "    <th>5</th>\n",
              "    <th> </th>\n",
              "    <th> </th>\n",
              "    <th> </th>\n",
              "    <th> </th>\n",
              "    <th>1</th>\n",
              "    <th>.</th>\n",
              "    <th>3</th>\n",
              "    <th>2</th>\n",
              "    <th>9</th>\n",
              "    <th>9</th>\n",
              "    <th>0</th>\n",
              "    <th>0</th>\n",
              "    <th> </th>\n",
              "    <th> </th>\n",
              "    <th> </th>\n",
              "    <th> </th>\n",
              "    <th>0</th>\n",
              "    <th>.</th>\n",
              "    <th>6</th>\n",
              "    <th>6</th>\n",
              "    <th>4</th>\n",
              "    <th>7</th>\n",
              "    <th>0</th>\n",
              "    <th>6</th>\n",
              "    <th> </th>\n",
              "    <th> </th>\n",
              "    <th>0</th>\n",
              "    <th>.</th>\n",
              "    <th>7</th>\n",
              "    <th>4</th>\n",
              "    <th>6</th>\n",
              "    <th>3</th>\n",
              "    <th>3</th>\n",
              "    <th>3</th>\n",
              "  </tr>\n",
              "  <tr>\n",
              "    <th>2</th>\n",
              "    <th> </th>\n",
              "    <th> </th>\n",
              "    <th> </th>\n",
              "    <th> </th>\n",
              "    <th> </th>\n",
              "    <th> </th>\n",
              "    <th>1</th>\n",
              "    <th>.</th>\n",
              "    <th>3</th>\n",
              "    <th>5</th>\n",
              "    <th>8</th>\n",
              "    <th>4</th>\n",
              "    <th>1</th>\n",
              "    <th>0</th>\n",
              "    <th> </th>\n",
              "    <th> </th>\n",
              "    <th> </th>\n",
              "    <th> </th>\n",
              "    <th>1</th>\n",
              "    <th>.</th>\n",
              "    <th>3</th>\n",
              "    <th>0</th>\n",
              "    <th>7</th>\n",
              "    <th>2</th>\n",
              "    <th>7</th>\n",
              "    <th>9</th>\n",
              "    <th> </th>\n",
              "    <th> </th>\n",
              "    <th> </th>\n",
              "    <th> </th>\n",
              "    <th>0</th>\n",
              "    <th>.</th>\n",
              "    <th>6</th>\n",
              "    <th>7</th>\n",
              "    <th>1</th>\n",
              "    <th>8</th>\n",
              "    <th>2</th>\n",
              "    <th>4</th>\n",
              "    <th> </th>\n",
              "    <th> </th>\n",
              "    <th>0</th>\n",
              "    <th>.</th>\n",
              "    <th>7</th>\n",
              "    <th>5</th>\n",
              "    <th>2</th>\n",
              "    <th>6</th>\n",
              "    <th>6</th>\n",
              "    <th>7</th>\n",
              "  </tr>\n",
              "  <tr>\n",
              "    <th>3</th>\n",
              "    <th> </th>\n",
              "    <th> </th>\n",
              "    <th> </th>\n",
              "    <th> </th>\n",
              "    <th> </th>\n",
              "    <th> </th>\n",
              "    <th>1</th>\n",
              "    <th>.</th>\n",
              "    <th>1</th>\n",
              "    <th>5</th>\n",
              "    <th>4</th>\n",
              "    <th>8</th>\n",
              "    <th>8</th>\n",
              "    <th>8</th>\n",
              "    <th> </th>\n",
              "    <th> </th>\n",
              "    <th> </th>\n",
              "    <th> </th>\n",
              "    <th>1</th>\n",
              "    <th>.</th>\n",
              "    <th>1</th>\n",
              "    <th>7</th>\n",
              "    <th>4</th>\n",
              "    <th>4</th>\n",
              "    <th>1</th>\n",
              "    <th>1</th>\n",
              "    <th> </th>\n",
              "    <th> </th>\n",
              "    <th> </th>\n",
              "    <th> </th>\n",
              "    <th>0</th>\n",
              "    <th>.</th>\n",
              "    <th>7</th>\n",
              "    <th>0</th>\n",
              "    <th>0</th>\n",
              "    <th>8</th>\n",
              "    <th>8</th>\n",
              "    <th>2</th>\n",
              "    <th> </th>\n",
              "    <th> </th>\n",
              "    <th>0</th>\n",
              "    <th>.</th>\n",
              "    <th>7</th>\n",
              "    <th>7</th>\n",
              "    <th>6</th>\n",
              "    <th>6</th>\n",
              "    <th>2</th>\n",
              "    <th>7</th>\n",
              "  </tr>\n",
              "  <tr>\n",
              "    <th>4</th>\n",
              "    <th> </th>\n",
              "    <th> </th>\n",
              "    <th> </th>\n",
              "    <th> </th>\n",
              "    <th> </th>\n",
              "    <th> </th>\n",
              "    <th>0</th>\n",
              "    <th>.</th>\n",
              "    <th>9</th>\n",
              "    <th>1</th>\n",
              "    <th>8</th>\n",
              "    <th>9</th>\n",
              "    <th>4</th>\n",
              "    <th>0</th>\n",
              "    <th> </th>\n",
              "    <th> </th>\n",
              "    <th> </th>\n",
              "    <th> </th>\n",
              "    <th>1</th>\n",
              "    <th>.</th>\n",
              "    <th>0</th>\n",
              "    <th>6</th>\n",
              "    <th>6</th>\n",
              "    <th>1</th>\n",
              "    <th>9</th>\n",
              "    <th>1</th>\n",
              "    <th> </th>\n",
              "    <th> </th>\n",
              "    <th> </th>\n",
              "    <th> </th>\n",
              "    <th>0</th>\n",
              "    <th>.</th>\n",
              "    <th>7</th>\n",
              "    <th>2</th>\n",
              "    <th>9</th>\n",
              "    <th>9</th>\n",
              "    <th>4</th>\n",
              "    <th>1</th>\n",
              "    <th> </th>\n",
              "    <th> </th>\n",
              "    <th>0</th>\n",
              "    <th>.</th>\n",
              "    <th>8</th>\n",
              "    <th>0</th>\n",
              "    <th>0</th>\n",
              "    <th>0</th>\n",
              "    <th>0</th>\n",
              "    <th>0</th>\n",
              "  </tr>\n",
              "  <tr>\n",
              "    <th>5</th>\n",
              "    <th> </th>\n",
              "    <th> </th>\n",
              "    <th> </th>\n",
              "    <th> </th>\n",
              "    <th> </th>\n",
              "    <th> </th>\n",
              "    <th>0</th>\n",
              "    <th>.</th>\n",
              "    <th>6</th>\n",
              "    <th>4</th>\n",
              "    <th>4</th>\n",
              "    <th>1</th>\n",
              "    <th>0</th>\n",
              "    <th>4</th>\n",
              "    <th> </th>\n",
              "    <th> </th>\n",
              "    <th> </th>\n",
              "    <th> </th>\n",
              "    <th>1</th>\n",
              "    <th>.</th>\n",
              "    <th>0</th>\n",
              "    <th>5</th>\n",
              "    <th>1</th>\n",
              "    <th>9</th>\n",
              "    <th>9</th>\n",
              "    <th>0</th>\n",
              "    <th> </th>\n",
              "    <th> </th>\n",
              "    <th> </th>\n",
              "    <th> </th>\n",
              "    <th>0</th>\n",
              "    <th>.</th>\n",
              "    <th>7</th>\n",
              "    <th>3</th>\n",
              "    <th>8</th>\n",
              "    <th>7</th>\n",
              "    <th>6</th>\n",
              "    <th>5</th>\n",
              "    <th> </th>\n",
              "    <th> </th>\n",
              "    <th>0</th>\n",
              "    <th>.</th>\n",
              "    <th>8</th>\n",
              "    <th>0</th>\n",
              "    <th>7</th>\n",
              "    <th>1</th>\n",
              "    <th>6</th>\n",
              "    <th>7</th>\n",
              "  </tr>\n",
              "  <tr>\n",
              "    <th>6</th>\n",
              "    <th> </th>\n",
              "    <th> </th>\n",
              "    <th> </th>\n",
              "    <th> </th>\n",
              "    <th> </th>\n",
              "    <th> </th>\n",
              "    <th>0</th>\n",
              "    <th>.</th>\n",
              "    <th>4</th>\n",
              "    <th>5</th>\n",
              "    <th>0</th>\n",
              "    <th>9</th>\n",
              "    <th>1</th>\n",
              "    <th>5</th>\n",
              "    <th> </th>\n",
              "    <th> </th>\n",
              "    <th> </th>\n",
              "    <th> </th>\n",
              "    <th>1</th>\n",
              "    <th>.</th>\n",
              "    <th>0</th>\n",
              "    <th>7</th>\n",
              "    <th>2</th>\n",
              "    <th>0</th>\n",
              "    <th>9</th>\n",
              "    <th>8</th>\n",
              "    <th> </th>\n",
              "    <th> </th>\n",
              "    <th> </th>\n",
              "    <th> </th>\n",
              "    <th>0</th>\n",
              "    <th>.</th>\n",
              "    <th>7</th>\n",
              "    <th>3</th>\n",
              "    <th>9</th>\n",
              "    <th>6</th>\n",
              "    <th>4</th>\n",
              "    <th>7</th>\n",
              "    <th> </th>\n",
              "    <th> </th>\n",
              "    <th>0</th>\n",
              "    <th>.</th>\n",
              "    <th>8</th>\n",
              "    <th>0</th>\n",
              "    <th>6</th>\n",
              "    <th>9</th>\n",
              "    <th>8</th>\n",
              "    <th>0</th>\n",
              "  </tr>\n",
              "</table>\n"
            ],
            "text/plain": [
              "<IPython.core.display.HTML object>"
            ]
          },
          "metadata": {
            "tags": []
          }
        }
      ]
    },
    {
      "metadata": {
        "id": "m-9x9Zd5UeWe",
        "colab_type": "code",
        "colab": {}
      },
      "cell_type": "code",
      "source": [
        "learn.save(f'{name}-stage-2')"
      ],
      "execution_count": 0,
      "outputs": []
    },
    {
      "metadata": {
        "id": "7Pmeq4s2fINg",
        "colab_type": "text"
      },
      "cell_type": "markdown",
      "source": [
        "You should see `res34-128-stage-2.pth` in the `models` folder"
      ]
    },
    {
      "metadata": {
        "id": "-yHfsxUQU8og",
        "colab_type": "text"
      },
      "cell_type": "markdown",
      "source": [
        "# Predict"
      ]
    },
    {
      "metadata": {
        "id": "VwW1WMTxVE-X",
        "colab_type": "code",
        "colab": {}
      },
      "cell_type": "code",
      "source": [
        "learn.load(f'{name}-stage-2');"
      ],
      "execution_count": 0,
      "outputs": []
    },
    {
      "metadata": {
        "id": "3XT4hCB8VQQp",
        "colab_type": "code",
        "colab": {}
      },
      "cell_type": "code",
      "source": [
        "preds, _ = learn.get_preds(ds_type=DatasetType.Test)"
      ],
      "execution_count": 0,
      "outputs": []
    },
    {
      "metadata": {
        "id": "5gtPIiB6V00r",
        "colab_type": "code",
        "colab": {}
      },
      "cell_type": "code",
      "source": [
        "PATH1 = Path('subs')\n",
        "PATH1.mkdir(exist_ok=True)"
      ],
      "execution_count": 0,
      "outputs": []
    },
    {
      "metadata": {
        "id": "1Te83T2-VQTO",
        "colab_type": "code",
        "colab": {}
      },
      "cell_type": "code",
      "source": [
        "create_submission(preds, data_bunch.test_dl, name, classes)\n"
      ],
      "execution_count": 0,
      "outputs": []
    },
    {
      "metadata": {
        "id": "Ylu1nyGIWVll",
        "colab_type": "code",
        "outputId": "aca308ec-fc07-44b1-fc5b-6acc6d1314f6",
        "colab": {
          "base_uri": "https://localhost:8080/",
          "height": 195
        }
      },
      "cell_type": "code",
      "source": [
        "pd.read_csv(f'subs/{name}.csv.gz').head()"
      ],
      "execution_count": 61,
      "outputs": [
        {
          "output_type": "execute_result",
          "data": {
            "text/html": [
              "<div>\n",
              "<style scoped>\n",
              "    .dataframe tbody tr th:only-of-type {\n",
              "        vertical-align: middle;\n",
              "    }\n",
              "\n",
              "    .dataframe tbody tr th {\n",
              "        vertical-align: top;\n",
              "    }\n",
              "\n",
              "    .dataframe thead th {\n",
              "        text-align: right;\n",
              "    }\n",
              "</style>\n",
              "<table border=\"1\" class=\"dataframe\">\n",
              "  <thead>\n",
              "    <tr style=\"text-align: right;\">\n",
              "      <th></th>\n",
              "      <th>key_id</th>\n",
              "      <th>word</th>\n",
              "    </tr>\n",
              "  </thead>\n",
              "  <tbody>\n",
              "    <tr>\n",
              "      <th>0</th>\n",
              "      <td>9307630548749285</td>\n",
              "      <td>grapes blackberry blueberry</td>\n",
              "    </tr>\n",
              "    <tr>\n",
              "      <th>1</th>\n",
              "      <td>9702020527625626</td>\n",
              "      <td>watermelon pizza hourglass</td>\n",
              "    </tr>\n",
              "    <tr>\n",
              "      <th>2</th>\n",
              "      <td>9893924504621355</td>\n",
              "      <td>computer laptop television</td>\n",
              "    </tr>\n",
              "    <tr>\n",
              "      <th>3</th>\n",
              "      <td>9813687402308814</td>\n",
              "      <td>spider fan crab</td>\n",
              "    </tr>\n",
              "    <tr>\n",
              "      <th>4</th>\n",
              "      <td>9174447586176505</td>\n",
              "      <td>car police_car school_bus</td>\n",
              "    </tr>\n",
              "  </tbody>\n",
              "</table>\n",
              "</div>"
            ],
            "text/plain": [
              "             key_id                         word\n",
              "0  9307630548749285  grapes blackberry blueberry\n",
              "1  9702020527625626   watermelon pizza hourglass\n",
              "2  9893924504621355   computer laptop television\n",
              "3  9813687402308814              spider fan crab\n",
              "4  9174447586176505    car police_car school_bus"
            ]
          },
          "metadata": {
            "tags": []
          },
          "execution_count": 61
        }
      ]
    },
    {
      "metadata": {
        "id": "3-HjzEHigaME",
        "colab_type": "text"
      },
      "cell_type": "markdown",
      "source": [
        "You should see `subs/res34-128.csv.gz` in the files"
      ]
    },
    {
      "metadata": {
        "id": "FuEKfSmwWlyD",
        "colab_type": "code",
        "outputId": "c6a0328f-d4b9-46bb-8c33-dcd6d0464534",
        "colab": {
          "base_uri": "https://localhost:8080/",
          "height": 50
        }
      },
      "cell_type": "code",
      "source": [
        "!kaggle competitions submit -c quickdraw-doodle-recognition -f subs/{name}.csv.gz -m \"Explorers\"\n",
        "\n",
        "\n"
      ],
      "execution_count": 62,
      "outputs": [
        {
          "output_type": "stream",
          "text": [
            "100% 1.52M/1.52M [00:09<00:00, 172kB/s]\n",
            "Successfully submitted to Quick, Draw! Doodle Recognition Challenge"
          ],
          "name": "stdout"
        }
      ]
    },
    {
      "metadata": {
        "id": "ScBlC76spvfa",
        "colab_type": "code",
        "outputId": "31c17c5b-4ed5-4633-a9c3-a1d62a8f540d",
        "colab": {
          "base_uri": "https://localhost:8080/",
          "height": 34
        }
      },
      "cell_type": "code",
      "source": [
        "\n",
        "!ls sample_data/txt/test | wc -l"
      ],
      "execution_count": 0,
      "outputs": [
        {
          "output_type": "stream",
          "text": [
            "112199\n"
          ],
          "name": "stdout"
        }
      ]
    }
  ]
}