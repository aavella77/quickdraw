{
  "nbformat": 4,
  "nbformat_minor": 0,
  "metadata": {
    "colab": {
      "name": "AlejandroQuickDrawFastAi-1.0.27v1",
      "version": "0.3.2",
      "provenance": [],
      "collapsed_sections": []
    },
    "kernelspec": {
      "name": "python3",
      "display_name": "Python 3"
    },
    "accelerator": "GPU"
  },
  "cells": [
    {
      "metadata": {
        "id": "U9vuHMxtCwwK",
        "colab_type": "code",
        "colab": {
          "base_uri": "https://localhost:8080/",
          "height": 34
        },
        "outputId": "ed71f9ec-45f0-4837-92f7-0f9a773712bf"
      },
      "cell_type": "code",
      "source": [
        "import tensorflow as tf\n",
        "device_name = tf.test.gpu_device_name()\n",
        "if device_name != '/device:GPU:0':\n",
        "  raise SystemError('GPU device not found')\n",
        "print('Found GPU at: {}'.format(device_name))"
      ],
      "execution_count": 1,
      "outputs": [
        {
          "output_type": "stream",
          "text": [
            "Found GPU at: /device:GPU:0\n"
          ],
          "name": "stdout"
        }
      ]
    },
    {
      "metadata": {
        "id": "GYpw9mv5DFay",
        "colab_type": "code",
        "colab": {
          "base_uri": "https://localhost:8080/",
          "height": 877
        },
        "outputId": "62fb7f5b-cc0f-402b-9266-e74fbb6a6453"
      },
      "cell_type": "code",
      "source": [
        "from os.path import exists\n",
        "from wheel.pep425tags import get_abbr_impl, get_impl_ver, get_abi_tag\n",
        "\n",
        "platform = '{}{}-{}'.format(get_abbr_impl(), get_impl_ver(), get_abi_tag())\n",
        "cuda_output = !ldconfig -p|grep cudart.so|sed -e 's/.*\\.\\([0-9]*\\)\\.\\([0-9]*\\)$/cu\\1\\2/'\n",
        "accelerator = cuda_output[0] if exists('/dev/nvidia0') else 'cpu'\n",
        "\n",
        "#!pip install torch_nightly -f https://download.pytorch.org/whl/nightly/{accelerator}/torch_nightly.html\n",
        "!pip uninstall torch_nightly\n",
        "#!pip uninstall fastai==1.0.38\n",
        "!pip install fastai==1.0.27\n",
        "!pip install torchtext==0.2.3\n",
        "\n",
        "import torch\n",
        "\n",
        "print(torch.__version__)\n",
        "print(torch.cuda.is_available())\n",
        "print(torch.backends.cudnn.enabled)"
      ],
      "execution_count": 2,
      "outputs": [
        {
          "output_type": "stream",
          "text": [
            "\u001b[33mSkipping torch-nightly as it is not installed.\u001b[0m\n",
            "Requirement already satisfied: fastai==1.0.27 in /usr/local/lib/python3.6/dist-packages (1.0.27)\n",
            "Requirement already satisfied: numpy>=1.12 in /usr/local/lib/python3.6/dist-packages (from fastai==1.0.27) (1.14.6)\n",
            "Requirement already satisfied: bottleneck in /usr/local/lib/python3.6/dist-packages (from fastai==1.0.27) (1.2.1)\n",
            "Requirement already satisfied: regex in /usr/local/lib/python3.6/dist-packages (from fastai==1.0.27) (2018.1.10)\n",
            "Requirement already satisfied: fastprogress>=0.1.15 in /usr/local/lib/python3.6/dist-packages (from fastai==1.0.27) (0.1.18)\n",
            "Requirement already satisfied: thinc==6.12.0 in /usr/local/lib/python3.6/dist-packages (from fastai==1.0.27) (6.12.0)\n",
            "Requirement already satisfied: pandas in /usr/local/lib/python3.6/dist-packages (from fastai==1.0.27) (0.22.0)\n",
            "Requirement already satisfied: Pillow in /usr/local/lib/python3.6/dist-packages (from fastai==1.0.27) (4.0.0)\n",
            "Requirement already satisfied: cymem==2.0.2 in /usr/local/lib/python3.6/dist-packages (from fastai==1.0.27) (2.0.2)\n",
            "Requirement already satisfied: pyyaml in /usr/local/lib/python3.6/dist-packages (from fastai==1.0.27) (3.13)\n",
            "Requirement already satisfied: numexpr in /usr/local/lib/python3.6/dist-packages (from fastai==1.0.27) (2.6.8)\n",
            "Requirement already satisfied: dataclasses in /usr/local/lib/python3.6/dist-packages (from fastai==1.0.27) (0.6)\n",
            "Requirement already satisfied: scipy in /usr/local/lib/python3.6/dist-packages (from fastai==1.0.27) (1.1.0)\n",
            "Requirement already satisfied: spacy==2.0.16 in /usr/local/lib/python3.6/dist-packages (from fastai==1.0.27) (2.0.16)\n",
            "Requirement already satisfied: requests in /usr/local/lib/python3.6/dist-packages (from fastai==1.0.27) (2.18.4)\n",
            "Requirement already satisfied: matplotlib in /usr/local/lib/python3.6/dist-packages (from fastai==1.0.27) (2.1.2)\n",
            "Requirement already satisfied: torchvision-nightly in /usr/local/lib/python3.6/dist-packages (from fastai==1.0.27) (0.2.1)\n",
            "Requirement already satisfied: typing in /usr/local/lib/python3.6/dist-packages (from fastai==1.0.27) (3.6.6)\n",
            "Requirement already satisfied: tqdm<5.0.0,>=4.10.0 in /usr/local/lib/python3.6/dist-packages (from thinc==6.12.0->fastai==1.0.27) (4.28.1)\n",
            "Requirement already satisfied: preshed<3.0.0,>=2.0.1 in /usr/local/lib/python3.6/dist-packages (from thinc==6.12.0->fastai==1.0.27) (2.0.1)\n",
            "Requirement already satisfied: dill<0.3.0,>=0.2.7 in /usr/local/lib/python3.6/dist-packages (from thinc==6.12.0->fastai==1.0.27) (0.2.8.2)\n",
            "Requirement already satisfied: cytoolz<0.10,>=0.9.0 in /usr/local/lib/python3.6/dist-packages (from thinc==6.12.0->fastai==1.0.27) (0.9.0.1)\n",
            "Requirement already satisfied: murmurhash<1.1.0,>=0.28.0 in /usr/local/lib/python3.6/dist-packages (from thinc==6.12.0->fastai==1.0.27) (1.0.1)\n",
            "Requirement already satisfied: six<2.0.0,>=1.10.0 in /usr/local/lib/python3.6/dist-packages (from thinc==6.12.0->fastai==1.0.27) (1.11.0)\n",
            "Requirement already satisfied: msgpack-numpy<0.4.4.0 in /usr/local/lib/python3.6/dist-packages (from thinc==6.12.0->fastai==1.0.27) (0.4.3.2)\n",
            "Requirement already satisfied: msgpack<1.0.0,>=0.5.6 in /usr/local/lib/python3.6/dist-packages (from thinc==6.12.0->fastai==1.0.27) (0.5.6)\n",
            "Requirement already satisfied: plac<1.0.0,>=0.9.6 in /usr/local/lib/python3.6/dist-packages (from thinc==6.12.0->fastai==1.0.27) (0.9.6)\n",
            "Requirement already satisfied: wrapt<1.11.0,>=1.10.0 in /usr/local/lib/python3.6/dist-packages (from thinc==6.12.0->fastai==1.0.27) (1.10.11)\n",
            "Requirement already satisfied: pytz>=2011k in /usr/local/lib/python3.6/dist-packages (from pandas->fastai==1.0.27) (2018.7)\n",
            "Requirement already satisfied: python-dateutil>=2 in /usr/local/lib/python3.6/dist-packages (from pandas->fastai==1.0.27) (2.5.3)\n",
            "Requirement already satisfied: olefile in /usr/local/lib/python3.6/dist-packages (from Pillow->fastai==1.0.27) (0.46)\n",
            "Requirement already satisfied: ujson>=1.35 in /usr/local/lib/python3.6/dist-packages (from spacy==2.0.16->fastai==1.0.27) (1.35)\n",
            "Requirement already satisfied: chardet<3.1.0,>=3.0.2 in /usr/local/lib/python3.6/dist-packages (from requests->fastai==1.0.27) (3.0.4)\n",
            "Requirement already satisfied: urllib3<1.23,>=1.21.1 in /usr/local/lib/python3.6/dist-packages (from requests->fastai==1.0.27) (1.22)\n",
            "Requirement already satisfied: certifi>=2017.4.17 in /usr/local/lib/python3.6/dist-packages (from requests->fastai==1.0.27) (2018.11.29)\n",
            "Requirement already satisfied: idna<2.7,>=2.5 in /usr/local/lib/python3.6/dist-packages (from requests->fastai==1.0.27) (2.6)\n",
            "Requirement already satisfied: cycler>=0.10 in /usr/local/lib/python3.6/dist-packages (from matplotlib->fastai==1.0.27) (0.10.0)\n",
            "Requirement already satisfied: pyparsing!=2.0.4,!=2.1.2,!=2.1.6,>=2.0.1 in /usr/local/lib/python3.6/dist-packages (from matplotlib->fastai==1.0.27) (2.3.0)\n",
            "Requirement already satisfied: toolz>=0.8.0 in /usr/local/lib/python3.6/dist-packages (from cytoolz<0.10,>=0.9.0->thinc==6.12.0->fastai==1.0.27) (0.9.0)\n",
            "Requirement already satisfied: torchtext==0.2.3 in /usr/local/lib/python3.6/dist-packages (0.2.3)\n",
            "Requirement already satisfied: tqdm in /usr/local/lib/python3.6/dist-packages (from torchtext==0.2.3) (4.28.1)\n",
            "Requirement already satisfied: requests in /usr/local/lib/python3.6/dist-packages (from torchtext==0.2.3) (2.18.4)\n",
            "Requirement already satisfied: urllib3<1.23,>=1.21.1 in /usr/local/lib/python3.6/dist-packages (from requests->torchtext==0.2.3) (1.22)\n",
            "Requirement already satisfied: chardet<3.1.0,>=3.0.2 in /usr/local/lib/python3.6/dist-packages (from requests->torchtext==0.2.3) (3.0.4)\n",
            "Requirement already satisfied: certifi>=2017.4.17 in /usr/local/lib/python3.6/dist-packages (from requests->torchtext==0.2.3) (2018.11.29)\n",
            "Requirement already satisfied: idna<2.7,>=2.5 in /usr/local/lib/python3.6/dist-packages (from requests->torchtext==0.2.3) (2.6)\n",
            "1.0.0\n",
            "True\n",
            "True\n"
          ],
          "name": "stdout"
        }
      ]
    },
    {
      "metadata": {
        "id": "AjpDy_OoDQaa",
        "colab_type": "code",
        "colab": {
          "base_uri": "https://localhost:8080/",
          "height": 34
        },
        "outputId": "479a3f0d-8d2a-4105-8738-f7a17feb620d"
      },
      "cell_type": "code",
      "source": [
        "import fastai\n",
        "print(fastai.__version__)\n",
        "from fastai import *\n",
        "from fastai.vision import *"
      ],
      "execution_count": 3,
      "outputs": [
        {
          "output_type": "stream",
          "text": [
            "1.0.27\n"
          ],
          "name": "stdout"
        }
      ]
    },
    {
      "metadata": {
        "id": "XdtXE9oNEeq_",
        "colab_type": "code",
        "colab": {}
      },
      "cell_type": "code",
      "source": [
        "%matplotlib inline\n",
        "import matplotlib.pyplot as plt\n",
        "import pandas as pd\n",
        "import numpy as np\n",
        "from pathlib import Path\n",
        "\n",
        "import json\n",
        "\n",
        "from utils import *"
      ],
      "execution_count": 0,
      "outputs": []
    },
    {
      "metadata": {
        "id": "SEXY85gSDdBz",
        "colab_type": "code",
        "colab": {}
      },
      "cell_type": "code",
      "source": [
        "NUM_SAMPLES_PER_CLASS = 1_000\n",
        "#NUM_VAL = 50 * 340\n",
        "NUM_VAL = 1000"
      ],
      "execution_count": 0,
      "outputs": []
    },
    {
      "metadata": {
        "id": "7uCMiM8xDwfg",
        "colab_type": "code",
        "colab": {}
      },
      "cell_type": "code",
      "source": [
        "PATH = Path('sample_data/txt')"
      ],
      "execution_count": 0,
      "outputs": []
    },
    {
      "metadata": {
        "id": "_-XEER0sDgzK",
        "colab_type": "code",
        "colab": {}
      },
      "cell_type": "code",
      "source": [
        "PATH.mkdir(exist_ok=True)\n",
        "(PATH/'train').mkdir(exist_ok=True)\n",
        "(PATH/'test').mkdir(exist_ok=True)"
      ],
      "execution_count": 0,
      "outputs": []
    },
    {
      "metadata": {
        "id": "12n2R-04DpPS",
        "colab_type": "code",
        "colab": {}
      },
      "cell_type": "code",
      "source": [
        "def create_train_txts_from_df(path):\n",
        "    df = pd.read_csv(path)\n",
        "    klass = '_'.join(path.stem.split())\n",
        "    (PATH/'train'/klass).mkdir(exist_ok=True)\n",
        "    for row in df.sample(NUM_SAMPLES_PER_CLASS).iterrows():\n",
        "        example = {\n",
        "            'countrycode': row[1].countrycode,\n",
        "            'drawing': json.loads(row[1].drawing),\n",
        "            'key_id': row[1].key_id,\n",
        "            'recognized': row[1].recognized\n",
        "        }\n",
        "        with open(PATH/'train'/klass/f'{example[\"key_id\"]}.txt', mode='w') as f: json.dump(example, f)\n",
        "\n",
        "def create_test_txts_from_df(path):\n",
        "    df = pd.read_csv(path)\n",
        "    for row in df.iterrows():\n",
        "        example = {\n",
        "            'countrycode': row[1].countrycode,\n",
        "            'drawing': json.loads(row[1].drawing),\n",
        "            'key_id': row[1].key_id\n",
        "        }\n",
        "        with open(PATH/'test'/f'{example[\"key_id\"]}.txt', mode='w') as f: json.dump(example, f)"
      ],
      "execution_count": 0,
      "outputs": []
    },
    {
      "metadata": {
        "id": "DPVwTy7Ncmml",
        "colab_type": "code",
        "colab": {
          "base_uri": "https://localhost:8080/",
          "height": 67
        },
        "outputId": "26a6c862-433c-4e9e-8d8d-1b9a8ea7a781"
      },
      "cell_type": "code",
      "source": [
        "%cd /\n",
        "%cd content\n",
        "%pwd\n",
        "shutil.move(\"test_simplified.csv\", \"sample_data\")"
      ],
      "execution_count": 87,
      "outputs": [
        {
          "output_type": "stream",
          "text": [
            "/\n",
            "/content\n"
          ],
          "name": "stdout"
        },
        {
          "output_type": "execute_result",
          "data": {
            "text/plain": [
              "'sample_data/test_simplified.csv'"
            ]
          },
          "metadata": {
            "tags": []
          },
          "execution_count": 87
        }
      ]
    },
    {
      "metadata": {
        "id": "7VYUrkp6D5L6",
        "colab_type": "code",
        "colab": {
          "base_uri": "https://localhost:8080/",
          "height": 50
        },
        "outputId": "322dbb81-379e-4e97-906f-a6ec88b84668"
      },
      "cell_type": "code",
      "source": [
        "%time create_test_txts_from_df('sample_data/test_simplified.csv')"
      ],
      "execution_count": 133,
      "outputs": [
        {
          "output_type": "stream",
          "text": [
            "CPU times: user 55.4 s, sys: 7.12 s, total: 1min 2s\n",
            "Wall time: 1min 3s\n"
          ],
          "name": "stdout"
        }
      ]
    },
    {
      "metadata": {
        "id": "Z9n_D_06e7Zw",
        "colab_type": "code",
        "colab": {
          "base_uri": "https://localhost:8080/",
          "height": 67
        },
        "outputId": "a5871324-bbce-43d8-b577-d9784b144e4b"
      },
      "cell_type": "code",
      "source": [
        "!ls sample_data/txt/test/9000003627287620.txt\n",
        "!ls sample_data/txt/test/9000297423888040.txt\n",
        "!ls sample_data/txt/test/9999996442242300.txt"
      ],
      "execution_count": 134,
      "outputs": [
        {
          "output_type": "stream",
          "text": [
            "sample_data/txt/test/9000003627287620.txt\n",
            "sample_data/txt/test/9000297423888040.txt\n",
            "sample_data/txt/test/9999996442242300.txt\n"
          ],
          "name": "stdout"
        }
      ]
    },
    {
      "metadata": {
        "id": "2SAYpy6JD6LY",
        "colab_type": "code",
        "colab": {}
      },
      "cell_type": "code",
      "source": [
        "%time for p in Path('sample_data/txt/train').iterdir(): create_train_txts_from_df(p)"
      ],
      "execution_count": 0,
      "outputs": []
    },
    {
      "metadata": {
        "id": "2TmcCFJLEMxv",
        "colab_type": "code",
        "colab": {}
      },
      "cell_type": "code",
      "source": [
        "sz = 128\n",
        "bs = 640"
      ],
      "execution_count": 0,
      "outputs": []
    },
    {
      "metadata": {
        "id": "FHniu9IKEM0Z",
        "colab_type": "code",
        "colab": {}
      },
      "cell_type": "code",
      "source": [
        "def create_func(path):\n",
        "    with open(path) as f: j = json.load(f)\n",
        "    drawing = list2drawing(j['drawing'], size=sz)\n",
        "    tensor = drawing2tensor(drawing)\n",
        "    return Image(tensor.div_(255))"
      ],
      "execution_count": 0,
      "outputs": []
    },
    {
      "metadata": {
        "id": "eno-kaNtET73",
        "colab_type": "code",
        "colab": {
          "base_uri": "https://localhost:8080/",
          "height": 87
        },
        "outputId": "63cb2dd6-935b-45e5-a4a2-708e59d5e41c"
      },
      "cell_type": "code",
      "source": [
        "item_list = ItemList.from_folder(PATH/'train', create_func=create_func)\n",
        "print(item_list)"
      ],
      "execution_count": 138,
      "outputs": [
        {
          "output_type": "stream",
          "text": [
            "ItemList (14000 items)\n",
            "[Image (3, 128, 128), Image (3, 128, 128), Image (3, 128, 128), Image (3, 128, 128), Image (3, 128, 128)]...\n",
            "Path: sample_data/txt/train\n"
          ],
          "name": "stdout"
        }
      ]
    },
    {
      "metadata": {
        "id": "QKChw2B1ET_H",
        "colab_type": "code",
        "colab": {
          "base_uri": "https://localhost:8080/",
          "height": 50
        },
        "outputId": "4243690f-d600-4a2b-9c21-2eb8bff0284a"
      },
      "cell_type": "code",
      "source": [
        "idxs = np.arange(item_list.items.shape[0])\n",
        "print(idxs)\n",
        "np.random.shuffle(idxs)\n",
        "val_idxs = idxs[:NUM_VAL]\n",
        "print(val_idxs)"
      ],
      "execution_count": 139,
      "outputs": [
        {
          "output_type": "stream",
          "text": [
            "[    0     1     2     3 ... 13996 13997 13998 13999]\n",
            "[ 4056  7434  3522  6491 ... 10134  8309  9714  6442]\n"
          ],
          "name": "stdout"
        }
      ]
    },
    {
      "metadata": {
        "id": "U5p7lmzgE5vN",
        "colab_type": "code",
        "colab": {
          "base_uri": "https://localhost:8080/",
          "height": 171
        },
        "outputId": "d1dcbf4c-4b2a-4e69-c6dd-ff6d90b314f2"
      },
      "cell_type": "code",
      "source": [
        "item_lists = item_list.split_by_idx(val_idxs)\n",
        "print(item_lists)"
      ],
      "execution_count": 140,
      "outputs": [
        {
          "output_type": "stream",
          "text": [
            "ItemLists;\n",
            "Train: ItemList (13000 items)\n",
            "[Image (3, 128, 128), Image (3, 128, 128), Image (3, 128, 128), Image (3, 128, 128), Image (3, 128, 128)]...\n",
            "Path: sample_data/txt/train;\n",
            "Valid: ItemList (1000 items)\n",
            "[Image (3, 128, 128), Image (3, 128, 128), Image (3, 128, 128), Image (3, 128, 128), Image (3, 128, 128)]...\n",
            "Path: sample_data/txt/train;\n",
            "Test: None\n"
          ],
          "name": "stdout"
        }
      ]
    },
    {
      "metadata": {
        "id": "mmOZYvTWFL9V",
        "colab_type": "code",
        "colab": {}
      },
      "cell_type": "code",
      "source": [
        "label_lists = item_lists.label_from_folder()\n",
        "pd.to_pickle(label_lists.train.y.classes, 'sample_data/classes.pkl')"
      ],
      "execution_count": 0,
      "outputs": []
    },
    {
      "metadata": {
        "id": "BuSSfuFEFrgj",
        "colab_type": "code",
        "colab": {}
      },
      "cell_type": "code",
      "source": [
        "classes = pd.read_pickle('sample_data/classes.pkl')\n",
        "\n",
        "label_lists = item_lists.label_from_folder(classes=classes)\n",
        "\n",
        "test_items = ItemList.from_folder(PATH/'test', create_func=create_func)\n",
        "label_lists.add_test(test_items);\n"
      ],
      "execution_count": 0,
      "outputs": []
    },
    {
      "metadata": {
        "id": "2BQBDg3OJ6_o",
        "colab_type": "code",
        "colab": {}
      },
      "cell_type": "code",
      "source": [
        "\n",
        "train_dl = DataLoader(label_lists.train, bs, True, num_workers=12)\n",
        "valid_dl = DataLoader(label_lists.valid, 2*bs, False, num_workers=12)\n",
        "test_dl = DataLoader(label_lists.test, 2*bs, False, num_workers=12)\n",
        "\n",
        "data_bunch = ImageDataBunch(train_dl, valid_dl, test_dl)"
      ],
      "execution_count": 0,
      "outputs": []
    },
    {
      "metadata": {
        "id": "g6FIoPBYKET1",
        "colab_type": "code",
        "colab": {}
      },
      "cell_type": "code",
      "source": [
        "pd.to_pickle(data_bunch.batch_stats(), f'sample_data/batch_stats_{sz}.pkl')"
      ],
      "execution_count": 0,
      "outputs": []
    },
    {
      "metadata": {
        "id": "3wxMJwF9KSt8",
        "colab_type": "code",
        "colab": {}
      },
      "cell_type": "code",
      "source": [
        "batch_stats = pd.read_pickle(f'sample_data/batch_stats_{sz}.pkl')"
      ],
      "execution_count": 0,
      "outputs": []
    },
    {
      "metadata": {
        "id": "SHsqXlx1Kivk",
        "colab_type": "code",
        "colab": {}
      },
      "cell_type": "code",
      "source": [
        "data_bunch.normalize(batch_stats);"
      ],
      "execution_count": 0,
      "outputs": []
    },
    {
      "metadata": {
        "id": "FmW3k5ckKmpV",
        "colab_type": "code",
        "colab": {
          "base_uri": "https://localhost:8080/",
          "height": 719
        },
        "outputId": "ec53220c-cc58-46ec-b432-15d38170d944"
      },
      "cell_type": "code",
      "source": [
        "data_bunch.show_batch(rows=4)"
      ],
      "execution_count": 148,
      "outputs": [
        {
          "output_type": "display_data",
          "data": {
            "image/png": "[encoded data removed]",
            "text/plain": [
              "<matplotlib.figure.Figure at 0x7f692b3a4710>"
            ]
          },
          "metadata": {
            "tags": []
          }
        }
      ]
    },
    {
      "metadata": {
        "id": "4fZr4NXEkJJP",
        "colab_type": "code",
        "colab": {
          "base_uri": "https://localhost:8080/",
          "height": 67
        },
        "outputId": "3ada1593-aaf3-4151-9bdb-de0571d66b83"
      },
      "cell_type": "code",
      "source": [
        "%ls sample_data/txt/train"
      ],
      "execution_count": 149,
      "outputs": [
        {
          "output_type": "stream",
          "text": [
            "\u001b[0m\u001b[01;34mvase\u001b[0m/             \u001b[01;34mwatermelon\u001b[0m/  \u001b[01;34mwheel\u001b[0m/        \u001b[01;34mwine_glass\u001b[0m/  \u001b[01;34mzebra\u001b[0m/\n",
            "\u001b[01;34mviolin\u001b[0m/           \u001b[01;34mwaterslide\u001b[0m/  \u001b[01;34mwindmill\u001b[0m/     \u001b[01;34mwristwatch\u001b[0m/  \u001b[01;34mzigzag\u001b[0m/\n",
            "\u001b[01;34mwashing_machine\u001b[0m/  \u001b[01;34mwhale\u001b[0m/       \u001b[01;34mwine_bottle\u001b[0m/  \u001b[01;34myoga\u001b[0m/\n"
          ],
          "name": "stdout"
        }
      ]
    },
    {
      "metadata": {
        "id": "3yU2H4LJK4Ms",
        "colab_type": "code",
        "colab": {}
      },
      "cell_type": "code",
      "source": [
        "name = f'res34-{sz}'"
      ],
      "execution_count": 0,
      "outputs": []
    },
    {
      "metadata": {
        "id": "wjOI3YfEK8Bb",
        "colab_type": "code",
        "colab": {}
      },
      "cell_type": "code",
      "source": [
        "learn = create_cnn(data_bunch, models.resnet34, metrics=[accuracy, map3])\n"
      ],
      "execution_count": 0,
      "outputs": []
    },
    {
      "metadata": {
        "id": "ERF0TZ-kK8EA",
        "colab_type": "code",
        "colab": {
          "base_uri": "https://localhost:8080/",
          "height": 131
        },
        "outputId": "cb29bfd0-af0f-4f6d-808a-f1742eddecd0"
      },
      "cell_type": "code",
      "source": [
        "learn.fit_one_cycle(2)"
      ],
      "execution_count": 152,
      "outputs": [
        {
          "output_type": "display_data",
          "data": {
            "text/html": [
              "Total time: 01:14 <p><table style='width:3375px; margin-bottom:10px'>\n",
              "  <tr>\n",
              "    <th>e</th>\n",
              "    <th>p</th>\n",
              "    <th>o</th>\n",
              "    <th>c</th>\n",
              "    <th>h</th>\n",
              "    <th> </th>\n",
              "    <th> </th>\n",
              "    <th>t</th>\n",
              "    <th>r</th>\n",
              "    <th>a</th>\n",
              "    <th>i</th>\n",
              "    <th>n</th>\n",
              "    <th>_</th>\n",
              "    <th>l</th>\n",
              "    <th>o</th>\n",
              "    <th>s</th>\n",
              "    <th>s</th>\n",
              "    <th> </th>\n",
              "    <th> </th>\n",
              "    <th>v</th>\n",
              "    <th>a</th>\n",
              "    <th>l</th>\n",
              "    <th>i</th>\n",
              "    <th>d</th>\n",
              "    <th>_</th>\n",
              "    <th>l</th>\n",
              "    <th>o</th>\n",
              "    <th>s</th>\n",
              "    <th>s</th>\n",
              "    <th> </th>\n",
              "    <th> </th>\n",
              "    <th>a</th>\n",
              "    <th>c</th>\n",
              "    <th>c</th>\n",
              "    <th>u</th>\n",
              "    <th>r</th>\n",
              "    <th>a</th>\n",
              "    <th>c</th>\n",
              "    <th>y</th>\n",
              "    <th> </th>\n",
              "    <th> </th>\n",
              "    <th>m</th>\n",
              "    <th>a</th>\n",
              "    <th>p</th>\n",
              "    <th>3</th>\n",
              "  </tr>\n",
              "  <tr>\n",
              "    <th>1</th>\n",
              "    <th> </th>\n",
              "    <th> </th>\n",
              "    <th> </th>\n",
              "    <th> </th>\n",
              "    <th> </th>\n",
              "    <th> </th>\n",
              "    <th>1</th>\n",
              "    <th>.</th>\n",
              "    <th>3</th>\n",
              "    <th>2</th>\n",
              "    <th>9</th>\n",
              "    <th>3</th>\n",
              "    <th>4</th>\n",
              "    <th>0</th>\n",
              "    <th> </th>\n",
              "    <th> </th>\n",
              "    <th> </th>\n",
              "    <th> </th>\n",
              "    <th>0</th>\n",
              "    <th>.</th>\n",
              "    <th>4</th>\n",
              "    <th>9</th>\n",
              "    <th>6</th>\n",
              "    <th>6</th>\n",
              "    <th>1</th>\n",
              "    <th>5</th>\n",
              "    <th> </th>\n",
              "    <th> </th>\n",
              "    <th> </th>\n",
              "    <th> </th>\n",
              "    <th>0</th>\n",
              "    <th>.</th>\n",
              "    <th>8</th>\n",
              "    <th>4</th>\n",
              "    <th>6</th>\n",
              "    <th>0</th>\n",
              "    <th>0</th>\n",
              "    <th>0</th>\n",
              "    <th> </th>\n",
              "    <th> </th>\n",
              "    <th>0</th>\n",
              "    <th>.</th>\n",
              "    <th>8</th>\n",
              "    <th>9</th>\n",
              "    <th>5</th>\n",
              "    <th>0</th>\n",
              "    <th>0</th>\n",
              "    <th>0</th>\n",
              "  </tr>\n",
              "  <tr>\n",
              "    <th>2</th>\n",
              "    <th> </th>\n",
              "    <th> </th>\n",
              "    <th> </th>\n",
              "    <th> </th>\n",
              "    <th> </th>\n",
              "    <th> </th>\n",
              "    <th>0</th>\n",
              "    <th>.</th>\n",
              "    <th>7</th>\n",
              "    <th>9</th>\n",
              "    <th>5</th>\n",
              "    <th>0</th>\n",
              "    <th>5</th>\n",
              "    <th>0</th>\n",
              "    <th> </th>\n",
              "    <th> </th>\n",
              "    <th> </th>\n",
              "    <th> </th>\n",
              "    <th>0</th>\n",
              "    <th>.</th>\n",
              "    <th>3</th>\n",
              "    <th>4</th>\n",
              "    <th>5</th>\n",
              "    <th>3</th>\n",
              "    <th>0</th>\n",
              "    <th>9</th>\n",
              "    <th> </th>\n",
              "    <th> </th>\n",
              "    <th> </th>\n",
              "    <th> </th>\n",
              "    <th>0</th>\n",
              "    <th>.</th>\n",
              "    <th>8</th>\n",
              "    <th>9</th>\n",
              "    <th>3</th>\n",
              "    <th>0</th>\n",
              "    <th>0</th>\n",
              "    <th>0</th>\n",
              "    <th> </th>\n",
              "    <th> </th>\n",
              "    <th>0</th>\n",
              "    <th>.</th>\n",
              "    <th>9</th>\n",
              "    <th>2</th>\n",
              "    <th>8</th>\n",
              "    <th>5</th>\n",
              "    <th>0</th>\n",
              "    <th>0</th>\n",
              "  </tr>\n",
              "</table>\n"
            ],
            "text/plain": [
              "<IPython.core.display.HTML object>"
            ]
          },
          "metadata": {
            "tags": []
          }
        }
      ]
    },
    {
      "metadata": {
        "id": "yFpqsBBSSk2g",
        "colab_type": "code",
        "colab": {}
      },
      "cell_type": "code",
      "source": [
        "learn.save(f'{name}-stage-1')"
      ],
      "execution_count": 0,
      "outputs": []
    },
    {
      "metadata": {
        "id": "r6fj8IATSzoP",
        "colab_type": "code",
        "colab": {}
      },
      "cell_type": "code",
      "source": [
        "learn.unfreeze()"
      ],
      "execution_count": 0,
      "outputs": []
    },
    {
      "metadata": {
        "id": "sR64TqVwS38G",
        "colab_type": "code",
        "colab": {
          "base_uri": "https://localhost:8080/",
          "height": 211
        },
        "outputId": "9e57d55d-d4c1-4952-b690-db58d98248b7"
      },
      "cell_type": "code",
      "source": [
        "learn.fit_one_cycle(6, max_lr=6e-4)\n"
      ],
      "execution_count": 155,
      "outputs": [
        {
          "output_type": "display_data",
          "data": {
            "text/html": [
              "Total time: 04:44 <p><table style='width:3375px; margin-bottom:10px'>\n",
              "  <tr>\n",
              "    <th>e</th>\n",
              "    <th>p</th>\n",
              "    <th>o</th>\n",
              "    <th>c</th>\n",
              "    <th>h</th>\n",
              "    <th> </th>\n",
              "    <th> </th>\n",
              "    <th>t</th>\n",
              "    <th>r</th>\n",
              "    <th>a</th>\n",
              "    <th>i</th>\n",
              "    <th>n</th>\n",
              "    <th>_</th>\n",
              "    <th>l</th>\n",
              "    <th>o</th>\n",
              "    <th>s</th>\n",
              "    <th>s</th>\n",
              "    <th> </th>\n",
              "    <th> </th>\n",
              "    <th>v</th>\n",
              "    <th>a</th>\n",
              "    <th>l</th>\n",
              "    <th>i</th>\n",
              "    <th>d</th>\n",
              "    <th>_</th>\n",
              "    <th>l</th>\n",
              "    <th>o</th>\n",
              "    <th>s</th>\n",
              "    <th>s</th>\n",
              "    <th> </th>\n",
              "    <th> </th>\n",
              "    <th>a</th>\n",
              "    <th>c</th>\n",
              "    <th>c</th>\n",
              "    <th>u</th>\n",
              "    <th>r</th>\n",
              "    <th>a</th>\n",
              "    <th>c</th>\n",
              "    <th>y</th>\n",
              "    <th> </th>\n",
              "    <th> </th>\n",
              "    <th>m</th>\n",
              "    <th>a</th>\n",
              "    <th>p</th>\n",
              "    <th>3</th>\n",
              "  </tr>\n",
              "  <tr>\n",
              "    <th>1</th>\n",
              "    <th> </th>\n",
              "    <th> </th>\n",
              "    <th> </th>\n",
              "    <th> </th>\n",
              "    <th> </th>\n",
              "    <th> </th>\n",
              "    <th>0</th>\n",
              "    <th>.</th>\n",
              "    <th>3</th>\n",
              "    <th>4</th>\n",
              "    <th>0</th>\n",
              "    <th>8</th>\n",
              "    <th>4</th>\n",
              "    <th>3</th>\n",
              "    <th> </th>\n",
              "    <th> </th>\n",
              "    <th> </th>\n",
              "    <th> </th>\n",
              "    <th>0</th>\n",
              "    <th>.</th>\n",
              "    <th>2</th>\n",
              "    <th>8</th>\n",
              "    <th>2</th>\n",
              "    <th>3</th>\n",
              "    <th>7</th>\n",
              "    <th>3</th>\n",
              "    <th> </th>\n",
              "    <th> </th>\n",
              "    <th> </th>\n",
              "    <th> </th>\n",
              "    <th>0</th>\n",
              "    <th>.</th>\n",
              "    <th>9</th>\n",
              "    <th>2</th>\n",
              "    <th>3</th>\n",
              "    <th>0</th>\n",
              "    <th>0</th>\n",
              "    <th>0</th>\n",
              "    <th> </th>\n",
              "    <th> </th>\n",
              "    <th>0</th>\n",
              "    <th>.</th>\n",
              "    <th>9</th>\n",
              "    <th>4</th>\n",
              "    <th>8</th>\n",
              "    <th>5</th>\n",
              "    <th>0</th>\n",
              "    <th>0</th>\n",
              "  </tr>\n",
              "  <tr>\n",
              "    <th>2</th>\n",
              "    <th> </th>\n",
              "    <th> </th>\n",
              "    <th> </th>\n",
              "    <th> </th>\n",
              "    <th> </th>\n",
              "    <th> </th>\n",
              "    <th>0</th>\n",
              "    <th>.</th>\n",
              "    <th>2</th>\n",
              "    <th>3</th>\n",
              "    <th>2</th>\n",
              "    <th>1</th>\n",
              "    <th>2</th>\n",
              "    <th>4</th>\n",
              "    <th> </th>\n",
              "    <th> </th>\n",
              "    <th> </th>\n",
              "    <th> </th>\n",
              "    <th>0</th>\n",
              "    <th>.</th>\n",
              "    <th>2</th>\n",
              "    <th>9</th>\n",
              "    <th>1</th>\n",
              "    <th>4</th>\n",
              "    <th>6</th>\n",
              "    <th>0</th>\n",
              "    <th> </th>\n",
              "    <th> </th>\n",
              "    <th> </th>\n",
              "    <th> </th>\n",
              "    <th>0</th>\n",
              "    <th>.</th>\n",
              "    <th>9</th>\n",
              "    <th>2</th>\n",
              "    <th>2</th>\n",
              "    <th>0</th>\n",
              "    <th>0</th>\n",
              "    <th>0</th>\n",
              "    <th> </th>\n",
              "    <th> </th>\n",
              "    <th>0</th>\n",
              "    <th>.</th>\n",
              "    <th>9</th>\n",
              "    <th>4</th>\n",
              "    <th>7</th>\n",
              "    <th>0</th>\n",
              "    <th>0</th>\n",
              "    <th>0</th>\n",
              "  </tr>\n",
              "  <tr>\n",
              "    <th>3</th>\n",
              "    <th> </th>\n",
              "    <th> </th>\n",
              "    <th> </th>\n",
              "    <th> </th>\n",
              "    <th> </th>\n",
              "    <th> </th>\n",
              "    <th>0</th>\n",
              "    <th>.</th>\n",
              "    <th>1</th>\n",
              "    <th>7</th>\n",
              "    <th>9</th>\n",
              "    <th>0</th>\n",
              "    <th>6</th>\n",
              "    <th>5</th>\n",
              "    <th> </th>\n",
              "    <th> </th>\n",
              "    <th> </th>\n",
              "    <th> </th>\n",
              "    <th>0</th>\n",
              "    <th>.</th>\n",
              "    <th>2</th>\n",
              "    <th>6</th>\n",
              "    <th>6</th>\n",
              "    <th>0</th>\n",
              "    <th>9</th>\n",
              "    <th>4</th>\n",
              "    <th> </th>\n",
              "    <th> </th>\n",
              "    <th> </th>\n",
              "    <th> </th>\n",
              "    <th>0</th>\n",
              "    <th>.</th>\n",
              "    <th>9</th>\n",
              "    <th>2</th>\n",
              "    <th>0</th>\n",
              "    <th>0</th>\n",
              "    <th>0</th>\n",
              "    <th>0</th>\n",
              "    <th> </th>\n",
              "    <th> </th>\n",
              "    <th>0</th>\n",
              "    <th>.</th>\n",
              "    <th>9</th>\n",
              "    <th>4</th>\n",
              "    <th>7</th>\n",
              "    <th>6</th>\n",
              "    <th>6</th>\n",
              "    <th>7</th>\n",
              "  </tr>\n",
              "  <tr>\n",
              "    <th>4</th>\n",
              "    <th> </th>\n",
              "    <th> </th>\n",
              "    <th> </th>\n",
              "    <th> </th>\n",
              "    <th> </th>\n",
              "    <th> </th>\n",
              "    <th>0</th>\n",
              "    <th>.</th>\n",
              "    <th>1</th>\n",
              "    <th>3</th>\n",
              "    <th>0</th>\n",
              "    <th>8</th>\n",
              "    <th>6</th>\n",
              "    <th>6</th>\n",
              "    <th> </th>\n",
              "    <th> </th>\n",
              "    <th> </th>\n",
              "    <th> </th>\n",
              "    <th>0</th>\n",
              "    <th>.</th>\n",
              "    <th>2</th>\n",
              "    <th>0</th>\n",
              "    <th>5</th>\n",
              "    <th>2</th>\n",
              "    <th>7</th>\n",
              "    <th>8</th>\n",
              "    <th> </th>\n",
              "    <th> </th>\n",
              "    <th> </th>\n",
              "    <th> </th>\n",
              "    <th>0</th>\n",
              "    <th>.</th>\n",
              "    <th>9</th>\n",
              "    <th>4</th>\n",
              "    <th>2</th>\n",
              "    <th>0</th>\n",
              "    <th>0</th>\n",
              "    <th>0</th>\n",
              "    <th> </th>\n",
              "    <th> </th>\n",
              "    <th>0</th>\n",
              "    <th>.</th>\n",
              "    <th>9</th>\n",
              "    <th>6</th>\n",
              "    <th>3</th>\n",
              "    <th>3</th>\n",
              "    <th>3</th>\n",
              "    <th>3</th>\n",
              "  </tr>\n",
              "  <tr>\n",
              "    <th>5</th>\n",
              "    <th> </th>\n",
              "    <th> </th>\n",
              "    <th> </th>\n",
              "    <th> </th>\n",
              "    <th> </th>\n",
              "    <th> </th>\n",
              "    <th>0</th>\n",
              "    <th>.</th>\n",
              "    <th>0</th>\n",
              "    <th>9</th>\n",
              "    <th>0</th>\n",
              "    <th>3</th>\n",
              "    <th>6</th>\n",
              "    <th>7</th>\n",
              "    <th> </th>\n",
              "    <th> </th>\n",
              "    <th> </th>\n",
              "    <th> </th>\n",
              "    <th>0</th>\n",
              "    <th>.</th>\n",
              "    <th>2</th>\n",
              "    <th>0</th>\n",
              "    <th>0</th>\n",
              "    <th>5</th>\n",
              "    <th>0</th>\n",
              "    <th>7</th>\n",
              "    <th> </th>\n",
              "    <th> </th>\n",
              "    <th> </th>\n",
              "    <th> </th>\n",
              "    <th>0</th>\n",
              "    <th>.</th>\n",
              "    <th>9</th>\n",
              "    <th>5</th>\n",
              "    <th>4</th>\n",
              "    <th>0</th>\n",
              "    <th>0</th>\n",
              "    <th>0</th>\n",
              "    <th> </th>\n",
              "    <th> </th>\n",
              "    <th>0</th>\n",
              "    <th>.</th>\n",
              "    <th>9</th>\n",
              "    <th>7</th>\n",
              "    <th>0</th>\n",
              "    <th>3</th>\n",
              "    <th>3</th>\n",
              "    <th>3</th>\n",
              "  </tr>\n",
              "  <tr>\n",
              "    <th>6</th>\n",
              "    <th> </th>\n",
              "    <th> </th>\n",
              "    <th> </th>\n",
              "    <th> </th>\n",
              "    <th> </th>\n",
              "    <th> </th>\n",
              "    <th>0</th>\n",
              "    <th>.</th>\n",
              "    <th>0</th>\n",
              "    <th>6</th>\n",
              "    <th>1</th>\n",
              "    <th>3</th>\n",
              "    <th>9</th>\n",
              "    <th>9</th>\n",
              "    <th> </th>\n",
              "    <th> </th>\n",
              "    <th> </th>\n",
              "    <th> </th>\n",
              "    <th>0</th>\n",
              "    <th>.</th>\n",
              "    <th>1</th>\n",
              "    <th>9</th>\n",
              "    <th>4</th>\n",
              "    <th>5</th>\n",
              "    <th>4</th>\n",
              "    <th>9</th>\n",
              "    <th> </th>\n",
              "    <th> </th>\n",
              "    <th> </th>\n",
              "    <th> </th>\n",
              "    <th>0</th>\n",
              "    <th>.</th>\n",
              "    <th>9</th>\n",
              "    <th>5</th>\n",
              "    <th>2</th>\n",
              "    <th>0</th>\n",
              "    <th>0</th>\n",
              "    <th>0</th>\n",
              "    <th> </th>\n",
              "    <th> </th>\n",
              "    <th>0</th>\n",
              "    <th>.</th>\n",
              "    <th>9</th>\n",
              "    <th>6</th>\n",
              "    <th>9</th>\n",
              "    <th>8</th>\n",
              "    <th>3</th>\n",
              "    <th>3</th>\n",
              "  </tr>\n",
              "</table>\n"
            ],
            "text/plain": [
              "<IPython.core.display.HTML object>"
            ]
          },
          "metadata": {
            "tags": []
          }
        }
      ]
    },
    {
      "metadata": {
        "id": "m-9x9Zd5UeWe",
        "colab_type": "code",
        "colab": {}
      },
      "cell_type": "code",
      "source": [
        "learn.save(f'{name}-stage-2')"
      ],
      "execution_count": 0,
      "outputs": []
    },
    {
      "metadata": {
        "id": "-yHfsxUQU8og",
        "colab_type": "text"
      },
      "cell_type": "markdown",
      "source": [
        "# Predict"
      ]
    },
    {
      "metadata": {
        "id": "VwW1WMTxVE-X",
        "colab_type": "code",
        "colab": {}
      },
      "cell_type": "code",
      "source": [
        "learn.load(f'{name}-stage-2');"
      ],
      "execution_count": 0,
      "outputs": []
    },
    {
      "metadata": {
        "id": "3XT4hCB8VQQp",
        "colab_type": "code",
        "colab": {}
      },
      "cell_type": "code",
      "source": [
        "preds, _ = learn.get_preds(ds_type=DatasetType.Test)"
      ],
      "execution_count": 0,
      "outputs": []
    },
    {
      "metadata": {
        "id": "5gtPIiB6V00r",
        "colab_type": "code",
        "colab": {}
      },
      "cell_type": "code",
      "source": [
        "PATH1 = Path('subs')\n",
        "PATH1.mkdir(exist_ok=True)"
      ],
      "execution_count": 0,
      "outputs": []
    },
    {
      "metadata": {
        "id": "1Te83T2-VQTO",
        "colab_type": "code",
        "colab": {}
      },
      "cell_type": "code",
      "source": [
        "create_submission(preds, data_bunch.test_dl, name, classes)\n"
      ],
      "execution_count": 0,
      "outputs": []
    },
    {
      "metadata": {
        "id": "Ylu1nyGIWVll",
        "colab_type": "code",
        "colab": {
          "base_uri": "https://localhost:8080/",
          "height": 195
        },
        "outputId": "344304c3-a9aa-4f7f-d14a-f28277ebf1a9"
      },
      "cell_type": "code",
      "source": [
        "pd.read_csv(f'subs/{name}.csv.gz').head()"
      ],
      "execution_count": 160,
      "outputs": [
        {
          "output_type": "execute_result",
          "data": {
            "text/html": [
              "<div>\n",
              "<style scoped>\n",
              "    .dataframe tbody tr th:only-of-type {\n",
              "        vertical-align: middle;\n",
              "    }\n",
              "\n",
              "    .dataframe tbody tr th {\n",
              "        vertical-align: top;\n",
              "    }\n",
              "\n",
              "    .dataframe thead th {\n",
              "        text-align: right;\n",
              "    }\n",
              "</style>\n",
              "<table border=\"1\" class=\"dataframe\">\n",
              "  <thead>\n",
              "    <tr style=\"text-align: right;\">\n",
              "      <th></th>\n",
              "      <th>key_id</th>\n",
              "      <th>word</th>\n",
              "    </tr>\n",
              "  </thead>\n",
              "  <tbody>\n",
              "    <tr>\n",
              "      <th>0</th>\n",
              "      <td>9116889588812650</td>\n",
              "      <td>windmill wine_bottle vase</td>\n",
              "    </tr>\n",
              "    <tr>\n",
              "      <th>1</th>\n",
              "      <td>9276842682338460</td>\n",
              "      <td>wheel wine_bottle yoga</td>\n",
              "    </tr>\n",
              "    <tr>\n",
              "      <th>2</th>\n",
              "      <td>9397716625327190</td>\n",
              "      <td>yoga wristwatch vase</td>\n",
              "    </tr>\n",
              "    <tr>\n",
              "      <th>3</th>\n",
              "      <td>9900939444183480</td>\n",
              "      <td>yoga waterslide wristwatch</td>\n",
              "    </tr>\n",
              "    <tr>\n",
              "      <th>4</th>\n",
              "      <td>9086841627857940</td>\n",
              "      <td>yoga zebra wine_glass</td>\n",
              "    </tr>\n",
              "  </tbody>\n",
              "</table>\n",
              "</div>"
            ],
            "text/plain": [
              "             key_id                        word\n",
              "0  9116889588812650   windmill wine_bottle vase\n",
              "1  9276842682338460      wheel wine_bottle yoga\n",
              "2  9397716625327190        yoga wristwatch vase\n",
              "3  9900939444183480  yoga waterslide wristwatch\n",
              "4  9086841627857940       yoga zebra wine_glass"
            ]
          },
          "metadata": {
            "tags": []
          },
          "execution_count": 160
        }
      ]
    },
    {
      "metadata": {
        "id": "Ogv1TEj1dOPg",
        "colab_type": "code",
        "colab": {}
      },
      "cell_type": "code",
      "source": [
        "PATH2 = Path('/root/.kaggle')\n",
        "PATH2.mkdir(exist_ok=True)\n",
        "%ls -a /root\n",
        "%cd /\n",
        "%cd content\n",
        "%pwd\n",
        "shutil.move(\"kaggle.json\", \"/root/.kaggle\")\n",
        "!chmod 600 /root/.kaggle/kaggle.json\n",
        "%ls /root/.kaggle"
      ],
      "execution_count": 0,
      "outputs": []
    },
    {
      "metadata": {
        "id": "FuEKfSmwWlyD",
        "colab_type": "code",
        "colab": {
          "base_uri": "https://localhost:8080/",
          "height": 34
        },
        "outputId": "6f4642a9-393b-44c8-b9ee-1726454a44ba"
      },
      "cell_type": "code",
      "source": [
        "#!kaggle competitions submit -c quickdraw-doodle-recognition -f subs/{name}.csv.gz -m \"Explorers\"\n",
        "\n",
        "\n"
      ],
      "execution_count": 126,
      "outputs": [
        {
          "output_type": "stream",
          "text": [
            "401 - Unauthorized\n"
          ],
          "name": "stdout"
        }
      ]
    },
    {
      "metadata": {
        "id": "ScBlC76spvfa",
        "colab_type": "code",
        "colab": {
          "base_uri": "https://localhost:8080/",
          "height": 34
        },
        "outputId": "d9061f8b-f94d-4bef-b434-d83d059b650d"
      },
      "cell_type": "code",
      "source": [
        "!ls sample_data/txt/test | wc -l"
      ],
      "execution_count": 161,
      "outputs": [
        {
          "output_type": "stream",
          "text": [
            "112199\n"
          ],
          "name": "stdout"
        }
      ]
    }
  ]
}